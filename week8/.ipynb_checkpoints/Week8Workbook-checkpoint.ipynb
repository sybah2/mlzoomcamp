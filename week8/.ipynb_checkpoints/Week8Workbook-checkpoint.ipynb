{
 "cells": [
  {
   "cell_type": "markdown",
   "id": "76ede9a5-bc64-4385-b6b4-199fab3add93",
   "metadata": {},
   "source": [
    "# Week 8 Notebook Deep learning\n",
    "This week focus on deep learning to predict type of cloths based on images"
   ]
  },
  {
   "cell_type": "code",
   "execution_count": null,
   "id": "940ff32f-8a7a-4fc8-9611-fedf8a83c1f1",
   "metadata": {},
   "outputs": [
    {
     "name": "stdout",
     "output_type": "stream",
     "text": [
      "Cloning into 'clothing-dataset-small'...\n",
      "remote: Enumerating objects: 3839, done.\u001b[K\n",
      "remote: Counting objects: 100% (400/400), done.\u001b[K\n",
      "remote: Compressing objects: 100% (400/400), done.\u001b[K\n",
      "Receiving objects:  55% (2112/3839), 56.39 MiB | 1.57 MiB/s\r"
     ]
    }
   ],
   "source": [
    "!git clone git@github.com:alexeygrigorev/clothing-dataset-small.git"
   ]
  }
 ],
 "metadata": {
  "kernelspec": {
   "display_name": "Python 3 (ipykernel)",
   "language": "python",
   "name": "python3"
  },
  "language_info": {
   "codemirror_mode": {
    "name": "ipython",
    "version": 3
   },
   "file_extension": ".py",
   "mimetype": "text/x-python",
   "name": "python",
   "nbconvert_exporter": "python",
   "pygments_lexer": "ipython3",
   "version": "3.10.14"
  }
 },
 "nbformat": 4,
 "nbformat_minor": 5
}
