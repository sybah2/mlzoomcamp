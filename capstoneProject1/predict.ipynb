{
 "cells": [
  {
   "cell_type": "code",
   "execution_count": 7,
   "id": "a72f871c-1c61-427d-811a-098c65a81e3b",
   "metadata": {},
   "outputs": [],
   "source": [
    "import pandas as pd"
   ]
  },
  {
   "cell_type": "code",
   "execution_count": 2,
   "id": "306f7d31-05da-48e9-bfdb-61ba1b9e4c0a",
   "metadata": {},
   "outputs": [],
   "source": [
    "import pickle\n",
    "model_file = 'final_model.bin'\n",
    "\n",
    "\n",
    "with open(model_file, 'rb') as f_in:\n",
    "    model = pickle.load(f_in)"
   ]
  },
  {
   "cell_type": "code",
   "execution_count": 12,
   "id": "22ac9b54-3178-4500-aafe-9c472ef9e3be",
   "metadata": {},
   "outputs": [],
   "source": [
    "customer = {'carat': 1.12,\n",
    " 'cut': 3,\n",
    " 'color': 4,\n",
    " 'clarity': 1,\n",
    " 'depth': 60.5,\n",
    " 'table': 59.0,\n",
    " 'x': 6.79,\n",
    " 'y': 6.73,\n",
    " 'z': 4.09}"
   ]
  },
  {
   "cell_type": "code",
   "execution_count": 13,
   "id": "a3f474ab-16a6-499e-89c5-c59def21144e",
   "metadata": {},
   "outputs": [],
   "source": [
    "def predict(customer, model):\n",
    "    X  = pd.json_normalize([customer])\n",
    "    pred = model.predict(X)\n",
    "    return(pred[0])\n",
    "    "
   ]
  },
  {
   "cell_type": "code",
   "execution_count": 14,
   "id": "0d626de6-5642-49a1-9f8c-29ce070af2ed",
   "metadata": {},
   "outputs": [
    {
     "data": {
      "text/plain": [
       "4605.41"
      ]
     },
     "execution_count": 14,
     "metadata": {},
     "output_type": "execute_result"
    }
   ],
   "source": [
    "predict(customer, model)"
   ]
  },
  {
   "cell_type": "code",
   "execution_count": null,
   "id": "d3ea5874-2627-4fbb-b7a8-ab8c1387d8d6",
   "metadata": {},
   "outputs": [],
   "source": []
  }
 ],
 "metadata": {
  "kernelspec": {
   "display_name": "Python 3 (ipykernel)",
   "language": "python",
   "name": "python3"
  },
  "language_info": {
   "codemirror_mode": {
    "name": "ipython",
    "version": 3
   },
   "file_extension": ".py",
   "mimetype": "text/x-python",
   "name": "python",
   "nbconvert_exporter": "python",
   "pygments_lexer": "ipython3",
   "version": "3.10.14"
  }
 },
 "nbformat": 4,
 "nbformat_minor": 5
}
