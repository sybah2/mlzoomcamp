{
 "cells": [
  {
   "cell_type": "code",
   "execution_count": 2,
   "id": "b1c4da34-ba11-422f-b4b3-d974ebecef5f",
   "metadata": {},
   "outputs": [],
   "source": [
    "import numpy as np\n",
    "import pandas as pd\n",
    "\n",
    "\n",
    "from sklearn.model_selection import train_test_split\n",
    "\n",
    "import seaborn as sns\n",
    "import matplotlib.pyplot as plt\n",
    "\n",
    "from sklearn.feature_extraction import DictVectorizer\n",
    "from sklearn.ensemble import RandomForestRegressor\n",
    "from sklearn.model_selection import cross_val_score\n",
    "from sklearn.pipeline import Pipeline\n",
    "from sklearn.preprocessing import StandardScaler\n",
    "\n",
    "import pickle\n",
    "\n",
    "import warnings\n",
    "warnings.filterwarnings('ignore')\n"
   ]
  },
  {
   "cell_type": "code",
   "execution_count": 13,
   "id": "65e48e54-8a1a-4258-9236-826bb45fb883",
   "metadata": {},
   "outputs": [],
   "source": [
    "data = pd.read_csv(\"data/diamonds.csv\")\n",
    "\n",
    "\n",
    "data.columns = data.columns.str.lower().str.replace(' ', '_')\n",
    "\n",
    "string_columns = list(data.dtypes[data.dtypes == 'object'].index)\n",
    "\n",
    "\n",
    "for col in string_columns:\n",
    "    data[col] = data[col] = data[col].str.lower().str.replace(\" \", \"_\")\n",
    "\n",
    "del data['unnamed:_0']\n",
    "\n",
    "data1 = data.copy()\n",
    "\n",
    "data1['cut'] = data1['cut'].map({'fair':0, 'good':1, 'very_good':2, 'premium':3, 'ideal':4})\n",
    "data1['color'] = data1['color'].map({'j':0, 'i':1, 'h':2, 'g':3, 'f':4, 'e':5, 'd':6})\n",
    "data1['clarity'] = data1['clarity'].map({'i1':0, 'si2':1, 'si1':2, 'vs2':3, 'vs1':4, 'vvs2':5, 'vvs1':6, 'if':7})\n"
   ]
  },
  {
   "cell_type": "code",
   "execution_count": 4,
   "id": "9041c19a-a2c6-47a8-84e6-ed9de7e06e1d",
   "metadata": {},
   "outputs": [],
   "source": [
    "df_full_train, df_test = train_test_split(data1, test_size=0.2, random_state=1)\n",
    "df_train, df_val = train_test_split(df_full_train, test_size=0.25, random_state=1)\n",
    "\n",
    "df_train = df_train.reset_index(drop=True)\n",
    "df_test = df_test.reset_index(drop=True)\n",
    "df_val = df_val.reset_index(drop=True)\n",
    "\n",
    "\n",
    "y_train = df_train.price.values\n",
    "y_test = df_test.price.values\n",
    "y_val = df_val.price.values\n",
    "\n",
    "del df_train['price']\n",
    "del df_test['price']\n",
    "del df_val['price']"
   ]
  },
  {
   "cell_type": "code",
   "execution_count": 5,
   "id": "564d60ed-4a10-4a42-a371-61c5da4eed9a",
   "metadata": {},
   "outputs": [],
   "source": [
    "def train(df, y):\n",
    "    model = Pipeline([(\"scalar3\",StandardScaler()),\n",
    "                     (\"rf_classifier\",RandomForestRegressor())])\n",
    "\n",
    "    model.fit(df_train, y_train)\n",
    "\n",
    "    return model\n",
    "\n",
    "\n",
    "def validation(model, df, y):\n",
    "    cv_score = cross_val_score(model, df,y,scoring=\"neg_root_mean_squared_error\", cv=10)\n",
    "    return cv_score.mean() \n",
    "\n",
    "\n",
    "def predict(model, df):\n",
    "    pred = model.predict(df)\n",
    "    return(pred[0])"
   ]
  },
  {
   "cell_type": "code",
   "execution_count": 6,
   "id": "16a6470b-1e55-4b4c-916f-414be7690920",
   "metadata": {},
   "outputs": [],
   "source": [
    "model = train(df_test, y_train)"
   ]
  },
  {
   "cell_type": "code",
   "execution_count": 7,
   "id": "4259ec6a-1d87-4705-9bed-1b99fbdafc17",
   "metadata": {},
   "outputs": [
    {
     "data": {
      "text/plain": [
       "-558.9406635158389"
      ]
     },
     "execution_count": 7,
     "metadata": {},
     "output_type": "execute_result"
    }
   ],
   "source": [
    "validation(model, df_train,y_train)"
   ]
  },
  {
   "cell_type": "code",
   "execution_count": 90,
   "id": "dcb52332-8861-4e7e-b6ad-f9d619061814",
   "metadata": {},
   "outputs": [
    {
     "data": {
      "text/plain": [
       "-607.928447781682"
      ]
     },
     "execution_count": 90,
     "metadata": {},
     "output_type": "execute_result"
    }
   ],
   "source": [
    "validation(model, df_val,y_val)"
   ]
  },
  {
   "cell_type": "code",
   "execution_count": 9,
   "id": "08cd150d-0a06-4d6f-a9a9-c85501d57562",
   "metadata": {},
   "outputs": [
    {
     "name": "stdout",
     "output_type": "stream",
     "text": [
      "471.36\n"
     ]
    }
   ],
   "source": [
    "print(predict(model=model, df=df_test.head(1)))"
   ]
  },
  {
   "cell_type": "code",
   "execution_count": 12,
   "id": "f0508054-7afc-4bbd-b1f3-caac8c0e79b0",
   "metadata": {},
   "outputs": [
    {
     "name": "stdout",
     "output_type": "stream",
     "text": [
      "The model is save to final_model.bin\n"
     ]
    }
   ],
   "source": [
    "## Save the model\n",
    "output_file = 'final_model.bin'\n",
    "with open(output_file, 'wb') as f_out:\n",
    "    pickle.dump((model), f_out)\n",
    "\n",
    "print(f\"The model is save to {output_file}\")"
   ]
  },
  {
   "cell_type": "code",
   "execution_count": 77,
   "id": "27fcb7c5-2ba8-4b62-b00e-72e9fdf7e3ee",
   "metadata": {},
   "outputs": [],
   "source": [
    "X  = df_test.head(1)"
   ]
  },
  {
   "cell_type": "code",
   "execution_count": 104,
   "id": "73cc2797-5713-4219-b2ed-3d152f5f0d90",
   "metadata": {},
   "outputs": [
    {
     "data": {
      "text/plain": [
       "483.68"
      ]
     },
     "execution_count": 104,
     "metadata": {},
     "output_type": "execute_result"
    }
   ],
   "source": [
    "model.predict(X)[0]"
   ]
  }
 ],
 "metadata": {
  "kernelspec": {
   "display_name": "Python 3 (ipykernel)",
   "language": "python",
   "name": "python3"
  },
  "language_info": {
   "codemirror_mode": {
    "name": "ipython",
    "version": 3
   },
   "file_extension": ".py",
   "mimetype": "text/x-python",
   "name": "python",
   "nbconvert_exporter": "python",
   "pygments_lexer": "ipython3",
   "version": "3.10.14"
  }
 },
 "nbformat": 4,
 "nbformat_minor": 5
}
