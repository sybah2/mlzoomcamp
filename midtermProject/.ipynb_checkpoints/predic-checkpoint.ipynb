{
 "cells": [
  {
   "cell_type": "code",
   "execution_count": 6,
   "id": "7e107077-597e-44e7-85f2-f70ad975aa68",
   "metadata": {},
   "outputs": [],
   "source": [
    "# This notebooks contains the codes for the predictions\n",
    "import pandas as pd\n",
    "import xgboost as xgb\n",
    "import numpy as np"
   ]
  },
  {
   "cell_type": "code",
   "execution_count": 7,
   "id": "8cb2e99d-50d5-48ef-bfb9-d16eb42e6529",
   "metadata": {},
   "outputs": [],
   "source": [
    "import pickle\n",
    "model_file = 'xboos_model.bin'\n",
    "\n",
    "\n",
    "with open(model_file, 'rb') as f_in:\n",
    "    dv, model = pickle.load(f_in)"
   ]
  },
  {
   "cell_type": "code",
   "execution_count": 8,
   "id": "1c18c349-2a71-49de-bd59-e7302836e604",
   "metadata": {},
   "outputs": [
    {
     "data": {
      "text/plain": [
       "{'credit_score': 626,\n",
       " 'country': 'France',\n",
       " 'gender': 'Female',\n",
       " 'age': 29,\n",
       " 'tenure': 4,\n",
       " 'balance': 105767.28,\n",
       " 'products_number': 2,\n",
       " 'credit_card': 0,\n",
       " 'active_member': 0,\n",
       " 'estimated_salary': 41104.82}"
      ]
     },
     "execution_count": 8,
     "metadata": {},
     "output_type": "execute_result"
    }
   ],
   "source": [
    "customer = {\n",
    "    'credit_score': 626,\n",
    "     'country': 'France',\n",
    "     'gender': 'Female',\n",
    "     'age': 29,\n",
    "     'tenure': 4,\n",
    "     'balance': 105767.28,\n",
    "     'products_number': 2,\n",
    "     'credit_card': 0,\n",
    "     'active_member': 0,\n",
    "     'estimated_salary': 41104.82}\n",
    "\n",
    "customer"
   ]
  },
  {
   "cell_type": "code",
   "execution_count": 9,
   "id": "89efbab3-b717-4052-ae90-e1eceb26030b",
   "metadata": {},
   "outputs": [],
   "source": [
    "def predict(customer, model, dv):\n",
    "    X  = pd.json_normalize([customer])\n",
    "    X_try_dict = X.to_dict(orient='records')\n",
    "    X_try = dv.transform(X_try_dict)\n",
    "    feature_names = list(dv.get_feature_names_out())\n",
    "     \n",
    "    feature_names\n",
    "    xtest = xgb.DMatrix(X_try, feature_names=feature_names)\n",
    "    return model.predict(xtest)[0]"
   ]
  },
  {
   "cell_type": "code",
   "execution_count": 10,
   "id": "5bffb77c-121b-4607-a4dc-aa5975bbc152",
   "metadata": {},
   "outputs": [
    {
     "data": {
      "text/plain": [
       "0.09038959"
      ]
     },
     "execution_count": 10,
     "metadata": {},
     "output_type": "execute_result"
    }
   ],
   "source": [
    "predict(customer=customer, model=model, dv=dv)"
   ]
  },
  {
   "cell_type": "code",
   "execution_count": null,
   "id": "99dac112-2ac3-45e9-97bc-a965100b1967",
   "metadata": {},
   "outputs": [],
   "source": []
  }
 ],
 "metadata": {
  "kernelspec": {
   "display_name": "Python 3 (ipykernel)",
   "language": "python",
   "name": "python3"
  },
  "language_info": {
   "codemirror_mode": {
    "name": "ipython",
    "version": 3
   },
   "file_extension": ".py",
   "mimetype": "text/x-python",
   "name": "python",
   "nbconvert_exporter": "python",
   "pygments_lexer": "ipython3",
   "version": "3.10.14"
  }
 },
 "nbformat": 4,
 "nbformat_minor": 5
}
