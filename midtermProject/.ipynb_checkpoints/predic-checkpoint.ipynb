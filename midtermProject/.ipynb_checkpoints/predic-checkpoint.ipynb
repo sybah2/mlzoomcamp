{
 "cells": [
  {
   "cell_type": "code",
   "execution_count": 1,
   "id": "7e107077-597e-44e7-85f2-f70ad975aa68",
   "metadata": {},
   "outputs": [],
   "source": [
    "# This notebooks contains the codes for the predictions"
   ]
  },
  {
   "cell_type": "code",
   "execution_count": null,
   "id": "89efbab3-b717-4052-ae90-e1eceb26030b",
   "metadata": {},
   "outputs": [],
   "source": [
    "def predict(df, model, dv):\n",
    "    X  = df\n",
    "    X_try_dict = X.to_dict(orient='records')\n",
    "    X_try = dv.transform(X_try_dict)\n",
    "    feature_names = list(dv.get_feature_names_out())\n",
    "     \n",
    "    feature_names\n",
    "    xtest = xgb.DMatrix(X_try, feature_names=feature_names)\n",
    "    return model.predict(xtest)[0]"
   ]
  },
  {
   "cell_type": "code",
   "execution_count": null,
   "id": "5bffb77c-121b-4607-a4dc-aa5975bbc152",
   "metadata": {},
   "outputs": [],
   "source": []
  }
 ],
 "metadata": {
  "kernelspec": {
   "display_name": "Python 3 (ipykernel)",
   "language": "python",
   "name": "python3"
  },
  "language_info": {
   "codemirror_mode": {
    "name": "ipython",
    "version": 3
   },
   "file_extension": ".py",
   "mimetype": "text/x-python",
   "name": "python",
   "nbconvert_exporter": "python",
   "pygments_lexer": "ipython3",
   "version": "3.10.14"
  }
 },
 "nbformat": 4,
 "nbformat_minor": 5
}
