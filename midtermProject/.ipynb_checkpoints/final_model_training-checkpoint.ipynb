{
 "cells": [
  {
   "cell_type": "code",
   "execution_count": 1,
   "id": "cc636701-78c1-4341-90cc-5073b0d5f1e8",
   "metadata": {},
   "outputs": [],
   "source": [
    "import numpy as np\n",
    "import pandas as pd\n",
    "\n",
    "\n",
    "from sklearn.model_selection import train_test_split\n",
    "from sklearn.model_selection import KFold\n",
    "from sklearn.feature_extraction import DictVectorizer\n",
    "from sklearn.metrics import accuracy_score, roc_auc_score\n",
    "from sklearn.metrics import mutual_info_score\n",
    "from sklearn.metrics import roc_curve\n",
    "\n",
    "\n",
    "import pickle\n",
    "\n",
    "import matplotlib.pyplot as plt\n",
    "import seaborn as sns\n",
    "\n",
    "import warnings\n",
    "warnings.filterwarnings('ignore')\n",
    "#!pip install xgboost\n",
    "import xgboost as xgb\n",
    "\n",
    "%matplotlib inline"
   ]
  },
  {
   "cell_type": "code",
   "execution_count": 4,
   "id": "5cd8a3de-5bf2-4f8b-be05-52f7a7f2c1a5",
   "metadata": {},
   "outputs": [],
   "source": [
    "df = pd.read_csv(\"data/bank_churn_data.csv\")\n",
    "del df['customer_id']"
   ]
  },
  {
   "cell_type": "code",
   "execution_count": 5,
   "id": "b2e32f29-8d48-4f08-baa7-1b64b4086a2b",
   "metadata": {},
   "outputs": [],
   "source": [
    "df_full_train, df_test = train_test_split(df, test_size=0.2, random_state=1)\n",
    "df_train, df_val = train_test_split(df_full_train, test_size=0.25, random_state=1)\n",
    "\n",
    "df_train = df_train.reset_index(drop=True)\n",
    "df_test = df_test.reset_index(drop=True)\n",
    "df_val = df_val.reset_index(drop=True)\n",
    "df_full_train = df_full_train.reset_index(drop=True)\n",
    "\n",
    "y_train = df_train.churn.values\n",
    "y_test = df_test.churn.values\n",
    "y_val = df_val.churn.values\n",
    "y_full_train = df_full_train.churn.values\n",
    "\n",
    "del df_train['churn']\n",
    "del df_test['churn']\n",
    "del df_val['churn']\n",
    "del df_full_train['churn']"
   ]
  },
  {
   "cell_type": "code",
   "execution_count": 8,
   "id": "7710f32a-0e8b-439a-8f8c-54da26612a21",
   "metadata": {},
   "outputs": [],
   "source": [
    "dicts_full_train = df_full_train.to_dict(orient='records')\n",
    " \n",
    "dv = DictVectorizer(sparse=False)\n",
    "X_full_train = dv.fit_transform(dicts_full_train)\n",
    " \n",
    "dicts_test = df_test.to_dict(orient='records')\n",
    "X_test = dv.transform(dicts_test)"
   ]
  },
  {
   "cell_type": "code",
   "execution_count": 10,
   "id": "2f6b7f8d-bb48-42a1-8a95-666a56d5105a",
   "metadata": {},
   "outputs": [],
   "source": [
    "feature_names = list(dv.get_feature_names_out())"
   ]
  },
  {
   "cell_type": "code",
   "execution_count": 11,
   "id": "92b6f95c-7a9c-406e-90ae-5fde241ef18e",
   "metadata": {},
   "outputs": [],
   "source": [
    "feature_names = list(dv.get_feature_names_out())\n",
    "dfulltrain = xgb.DMatrix(X_full_train, label=y_full_train,\n",
    "                    feature_names=feature_names)\n",
    " \n",
    "dtest = xgb.DMatrix(X_test, feature_names=feature_names)"
   ]
  },
  {
   "cell_type": "code",
   "execution_count": 14,
   "id": "9b56fab5-bad1-4d03-a2ec-85a5b594732c",
   "metadata": {},
   "outputs": [],
   "source": [
    "xgb_params = {\n",
    "    'eta': 0.01, \n",
    "    'max_depth': 8,\n",
    "    'min_child_weight': 30,\n",
    "     \n",
    "    'objective': 'binary:logistic',\n",
    "    'eval_metric': 'auc',\n",
    " \n",
    "    'nthread': 8,\n",
    "    'seed': 1,\n",
    "    'verbosity': 1,\n",
    "}\n",
    " \n",
    "model = xgb.train(xgb_params, dfulltrain, num_boost_round=200,\n",
    "                  verbose_eval=5,)"
   ]
  },
  {
   "cell_type": "code",
   "execution_count": 15,
   "id": "06290f9f-9a89-4438-adf0-f506560854ad",
   "metadata": {},
   "outputs": [
    {
     "data": {
      "text/plain": [
       "0.8743004826878491"
      ]
     },
     "execution_count": 15,
     "metadata": {},
     "output_type": "execute_result"
    }
   ],
   "source": [
    "y_pred = model.predict(dtest)\n",
    "roc_auc_score(y_test, y_pred)"
   ]
  },
  {
   "cell_type": "code",
   "execution_count": null,
   "id": "73d12be8-12e2-4ae2-95b2-092e1108ee02",
   "metadata": {},
   "outputs": [],
   "source": [
    "### save model\n"
   ]
  }
 ],
 "metadata": {
  "kernelspec": {
   "display_name": "Python 3 (ipykernel)",
   "language": "python",
   "name": "python3"
  },
  "language_info": {
   "codemirror_mode": {
    "name": "ipython",
    "version": 3
   },
   "file_extension": ".py",
   "mimetype": "text/x-python",
   "name": "python",
   "nbconvert_exporter": "python",
   "pygments_lexer": "ipython3",
   "version": "3.10.14"
  }
 },
 "nbformat": 4,
 "nbformat_minor": 5
}
