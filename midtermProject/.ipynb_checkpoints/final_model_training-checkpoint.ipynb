{
 "cells": [
  {
   "cell_type": "code",
   "execution_count": 2,
   "id": "cc636701-78c1-4341-90cc-5073b0d5f1e8",
   "metadata": {},
   "outputs": [],
   "source": [
    "import numpy as np\n",
    "import pandas as pd\n",
    "\n",
    "\n",
    "from sklearn.model_selection import train_test_split\n",
    "from sklearn.model_selection import KFold\n",
    "from sklearn.feature_extraction import DictVectorizer\n",
    "from sklearn.metrics import accuracy_score, roc_auc_score\n",
    "from sklearn.metrics import mutual_info_score\n",
    "from sklearn.metrics import roc_curve\n",
    "\n",
    "\n",
    "import pickle\n",
    "\n",
    "import matplotlib.pyplot as plt\n",
    "import seaborn as sns\n",
    "\n",
    "import warnings\n",
    "warnings.filterwarnings('ignore')\n",
    "#!pip install xgboost\n",
    "import xgboost as xgb\n",
    "\n",
    "%matplotlib inline"
   ]
  },
  {
   "cell_type": "code",
   "execution_count": 3,
   "id": "5cd8a3de-5bf2-4f8b-be05-52f7a7f2c1a5",
   "metadata": {},
   "outputs": [],
   "source": [
    "df = pd.read_csv(\"data/bank_churn_data.csv\")\n",
    "del df['customer_id']"
   ]
  },
  {
   "cell_type": "code",
   "execution_count": 4,
   "id": "b2e32f29-8d48-4f08-baa7-1b64b4086a2b",
   "metadata": {},
   "outputs": [],
   "source": [
    "df_full_train, df_test = train_test_split(df, test_size=0.2, random_state=1)\n",
    "df_train, df_val = train_test_split(df_full_train, test_size=0.25, random_state=1)\n",
    "\n",
    "df_train = df_train.reset_index(drop=True)\n",
    "df_test = df_test.reset_index(drop=True)\n",
    "df_val = df_val.reset_index(drop=True)\n",
    "df_full_train = df_full_train.reset_index(drop=True)\n",
    "\n",
    "y_train = df_train.churn.values\n",
    "y_test = df_test.churn.values\n",
    "y_val = df_val.churn.values\n",
    "y_full_train = df_full_train.churn.values\n",
    "\n",
    "del df_train['churn']\n",
    "del df_test['churn']\n",
    "del df_val['churn']\n",
    "del df_full_train['churn']"
   ]
  },
  {
   "cell_type": "code",
   "execution_count": 44,
   "id": "9b56fab5-bad1-4d03-a2ec-85a5b594732c",
   "metadata": {},
   "outputs": [],
   "source": [
    "xgb_params = {\n",
    "    'eta': 0.01, \n",
    "    'max_depth': 8,\n",
    "    'min_child_weight': 30,\n",
    "     \n",
    "    'objective': 'binary:logistic',\n",
    "    'eval_metric': 'auc',\n",
    " \n",
    "    'nthread': 8,\n",
    "    'seed': 1,\n",
    "    'verbosity': 1,\n",
    "}"
   ]
  },
  {
   "cell_type": "code",
   "execution_count": 122,
   "id": "3beaa23f-2959-4d67-a6d5-d0e485e27ba2",
   "metadata": {},
   "outputs": [],
   "source": [
    "def train(df, y, params):\n",
    "    df = df_full_train.to_dict(orient='records')\n",
    " \n",
    "    dv = DictVectorizer(sparse=False)\n",
    "    X_full_train = dv.fit_transform(df)\n",
    "\n",
    "    feature_names = list(dv.get_feature_names_out())\n",
    "\n",
    "    feature_names = list(dv.get_feature_names_out())\n",
    "    dfulltrain = xgb.DMatrix(X_full_train, label=y_full_train,\n",
    "                    feature_names=feature_names)\n",
    " \n",
    "    model = xgb.train(params, dfulltrain, num_boost_round=200,\n",
    "                  verbose_eval=5,)\n",
    "\n",
    "    return (dv, model)\n",
    "    "
   ]
  },
  {
   "cell_type": "code",
   "execution_count": 99,
   "id": "598df477-b272-4d60-98b5-2bf7bffc8c82",
   "metadata": {},
   "outputs": [],
   "source": [
    "def valid(model, dv, df, y):\n",
    "    dicts_test = df.to_dict(orient='records')\n",
    "    X_test = dv.transform(dicts_test)\n",
    "\n",
    "    feature_names = list(dv.get_feature_names_out())\n",
    "    dtest = xgb.DMatrix(X_test, feature_names=feature_names)\n",
    "\n",
    "    y_pred = model.predict(dtest)\n",
    "    return roc_auc_score(y, y_pred)\n",
    "\n",
    "    "
   ]
  },
  {
   "cell_type": "code",
   "execution_count": 123,
   "id": "73d12be8-12e2-4ae2-95b2-092e1108ee02",
   "metadata": {},
   "outputs": [],
   "source": [
    "### save model\n",
    "dv, model = train(df_full_train, y_train, xgb_params)"
   ]
  },
  {
   "cell_type": "code",
   "execution_count": 124,
   "id": "e6a1dff4-6e53-4849-ae74-5432b82e8ed0",
   "metadata": {},
   "outputs": [
    {
     "data": {
      "text/plain": [
       "0.8743004826878491"
      ]
     },
     "execution_count": 124,
     "metadata": {},
     "output_type": "execute_result"
    }
   ],
   "source": [
    "validate(model=model, dv=dv, df=df_test, y=y_test)"
   ]
  },
  {
   "cell_type": "code",
   "execution_count": 125,
   "id": "65f91015-518f-44ba-be17-5d4c7a12121f",
   "metadata": {},
   "outputs": [],
   "source": [
    "custumer = df_full_train.to_dict(orient='records')[1]"
   ]
  },
  {
   "cell_type": "code",
   "execution_count": 131,
   "id": "acce1e04-3ae4-4eeb-a1cb-b1a905ff9513",
   "metadata": {},
   "outputs": [],
   "source": [
    "X  = df_test.head(1)"
   ]
  },
  {
   "cell_type": "code",
   "execution_count": null,
   "id": "367cfe8a-cfa8-4a5b-92d5-cd8b69285834",
   "metadata": {},
   "outputs": [],
   "source": []
  },
  {
   "cell_type": "code",
   "execution_count": 132,
   "id": "c473abe2-54b7-4fd6-8d18-763de506b033",
   "metadata": {},
   "outputs": [],
   "source": [
    "def predict(df, model, dv):\n",
    "    X  = df\n",
    "    X_try_dict = X.to_dict(orient='records')\n",
    "    X_try = dv.transform(X_try_dict)\n",
    "    feature_names = list(dv.get_feature_names_out())\n",
    "     \n",
    "    feature_names\n",
    "    xtest = xgb.DMatrix(X_try, feature_names=feature_names)\n",
    "    return model.predict(xtest)[0]"
   ]
  },
  {
   "cell_type": "code",
   "execution_count": 133,
   "id": "b2b7f411-6ee4-4860-9fe9-3564cf10dc5b",
   "metadata": {},
   "outputs": [
    {
     "data": {
      "text/plain": [
       "0.0942261"
      ]
     },
     "execution_count": 133,
     "metadata": {},
     "output_type": "execute_result"
    }
   ],
   "source": [
    "predict(df=X, model=model, dv=dv)"
   ]
  },
  {
   "cell_type": "code",
   "execution_count": null,
   "id": "c2b36db2-c381-4f29-b876-3d2c30410c8c",
   "metadata": {},
   "outputs": [],
   "source": []
  },
  {
   "cell_type": "code",
   "execution_count": null,
   "id": "824b2e04-8a0a-4064-aa30-472497e8b852",
   "metadata": {},
   "outputs": [],
   "source": []
  }
 ],
 "metadata": {
  "kernelspec": {
   "display_name": "Python 3 (ipykernel)",
   "language": "python",
   "name": "python3"
  },
  "language_info": {
   "codemirror_mode": {
    "name": "ipython",
    "version": 3
   },
   "file_extension": ".py",
   "mimetype": "text/x-python",
   "name": "python",
   "nbconvert_exporter": "python",
   "pygments_lexer": "ipython3",
   "version": "3.10.14"
  }
 },
 "nbformat": 4,
 "nbformat_minor": 5
}
