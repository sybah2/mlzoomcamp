{
 "cells": [
  {
   "cell_type": "markdown",
   "id": "5be31782-fde6-4c1b-8016-4e23fb485268",
   "metadata": {},
   "source": [
    "## Week two machine learning \n",
    "This notebook cover basic fundamental of regression"
   ]
  },
  {
   "cell_type": "markdown",
   "id": "9f31dd12-f693-4699-a560-e6d3acaa751b",
   "metadata": {},
   "source": [
    "### load all the library (packages) needed for the project"
   ]
  },
  {
   "cell_type": "code",
   "execution_count": 73,
   "id": "5bb1004e-f79c-46f9-be26-a44df497d762",
   "metadata": {},
   "outputs": [],
   "source": [
    "import numpy as np\n",
    "import pandas as pd\n",
    "import matplotlib.pyplot as plt\n",
    "import seaborn as sns\n",
    "\n",
    "%matplotlib inline"
   ]
  },
  {
   "cell_type": "markdown",
   "id": "aceac85d-5558-4569-b02a-b7cb47115cba",
   "metadata": {},
   "source": [
    "### Get the house data for the analysis"
   ]
  },
  {
   "cell_type": "code",
   "execution_count": 74,
   "id": "49115189-72e4-49d9-a978-a13df9d51d46",
   "metadata": {},
   "outputs": [],
   "source": [
    "#! wget https://raw.githubusercontent.com/alexeygrigorev/datasets/master/housing.csv"
   ]
  },
  {
   "cell_type": "code",
   "execution_count": 75,
   "id": "0daa8aca-bfee-4224-bebc-d8fd2807e63b",
   "metadata": {},
   "outputs": [
    {
     "name": "stdout",
     "output_type": "stream",
     "text": [
      "housing.csv  weekTwoNotebook.ipynb\n"
     ]
    }
   ],
   "source": [
    "! ls"
   ]
  },
  {
   "cell_type": "markdown",
   "id": "73e39885-a17e-445c-a196-b44df8d450cd",
   "metadata": {},
   "source": [
    "### Load (read in) the data using pandas"
   ]
  },
  {
   "cell_type": "code",
   "execution_count": 76,
   "id": "852ab88b-34be-46bc-acaf-196f47961846",
   "metadata": {},
   "outputs": [],
   "source": [
    "housing_df = pd.read_csv(\"housing.csv\")"
   ]
  },
  {
   "cell_type": "markdown",
   "id": "d9256a19-c5b6-4ec3-93a3-29814a6e63c8",
   "metadata": {},
   "source": [
    "### Exploratory data analysis"
   ]
  },
  {
   "cell_type": "code",
   "execution_count": 77,
   "id": "7cf167cf-2f17-4716-a209-a565ac5ab804",
   "metadata": {},
   "outputs": [
    {
     "data": {
      "text/html": [
       "<div>\n",
       "<style scoped>\n",
       "    .dataframe tbody tr th:only-of-type {\n",
       "        vertical-align: middle;\n",
       "    }\n",
       "\n",
       "    .dataframe tbody tr th {\n",
       "        vertical-align: top;\n",
       "    }\n",
       "\n",
       "    .dataframe thead th {\n",
       "        text-align: right;\n",
       "    }\n",
       "</style>\n",
       "<table border=\"1\" class=\"dataframe\">\n",
       "  <thead>\n",
       "    <tr style=\"text-align: right;\">\n",
       "      <th></th>\n",
       "      <th>longitude</th>\n",
       "      <th>latitude</th>\n",
       "      <th>housing_median_age</th>\n",
       "      <th>total_rooms</th>\n",
       "      <th>total_bedrooms</th>\n",
       "      <th>population</th>\n",
       "      <th>households</th>\n",
       "      <th>median_income</th>\n",
       "      <th>median_house_value</th>\n",
       "      <th>ocean_proximity</th>\n",
       "    </tr>\n",
       "  </thead>\n",
       "  <tbody>\n",
       "    <tr>\n",
       "      <th>0</th>\n",
       "      <td>-122.23</td>\n",
       "      <td>37.88</td>\n",
       "      <td>41.0</td>\n",
       "      <td>880.0</td>\n",
       "      <td>129.0</td>\n",
       "      <td>322.0</td>\n",
       "      <td>126.0</td>\n",
       "      <td>8.3252</td>\n",
       "      <td>452600.0</td>\n",
       "      <td>NEAR BAY</td>\n",
       "    </tr>\n",
       "    <tr>\n",
       "      <th>1</th>\n",
       "      <td>-122.22</td>\n",
       "      <td>37.86</td>\n",
       "      <td>21.0</td>\n",
       "      <td>7099.0</td>\n",
       "      <td>1106.0</td>\n",
       "      <td>2401.0</td>\n",
       "      <td>1138.0</td>\n",
       "      <td>8.3014</td>\n",
       "      <td>358500.0</td>\n",
       "      <td>NEAR BAY</td>\n",
       "    </tr>\n",
       "    <tr>\n",
       "      <th>2</th>\n",
       "      <td>-122.24</td>\n",
       "      <td>37.85</td>\n",
       "      <td>52.0</td>\n",
       "      <td>1467.0</td>\n",
       "      <td>190.0</td>\n",
       "      <td>496.0</td>\n",
       "      <td>177.0</td>\n",
       "      <td>7.2574</td>\n",
       "      <td>352100.0</td>\n",
       "      <td>NEAR BAY</td>\n",
       "    </tr>\n",
       "    <tr>\n",
       "      <th>3</th>\n",
       "      <td>-122.25</td>\n",
       "      <td>37.85</td>\n",
       "      <td>52.0</td>\n",
       "      <td>1274.0</td>\n",
       "      <td>235.0</td>\n",
       "      <td>558.0</td>\n",
       "      <td>219.0</td>\n",
       "      <td>5.6431</td>\n",
       "      <td>341300.0</td>\n",
       "      <td>NEAR BAY</td>\n",
       "    </tr>\n",
       "    <tr>\n",
       "      <th>4</th>\n",
       "      <td>-122.25</td>\n",
       "      <td>37.85</td>\n",
       "      <td>52.0</td>\n",
       "      <td>1627.0</td>\n",
       "      <td>280.0</td>\n",
       "      <td>565.0</td>\n",
       "      <td>259.0</td>\n",
       "      <td>3.8462</td>\n",
       "      <td>342200.0</td>\n",
       "      <td>NEAR BAY</td>\n",
       "    </tr>\n",
       "  </tbody>\n",
       "</table>\n",
       "</div>"
      ],
      "text/plain": [
       "   longitude  latitude  housing_median_age  total_rooms  total_bedrooms  \\\n",
       "0    -122.23     37.88                41.0        880.0           129.0   \n",
       "1    -122.22     37.86                21.0       7099.0          1106.0   \n",
       "2    -122.24     37.85                52.0       1467.0           190.0   \n",
       "3    -122.25     37.85                52.0       1274.0           235.0   \n",
       "4    -122.25     37.85                52.0       1627.0           280.0   \n",
       "\n",
       "   population  households  median_income  median_house_value ocean_proximity  \n",
       "0       322.0       126.0         8.3252            452600.0        NEAR BAY  \n",
       "1      2401.0      1138.0         8.3014            358500.0        NEAR BAY  \n",
       "2       496.0       177.0         7.2574            352100.0        NEAR BAY  \n",
       "3       558.0       219.0         5.6431            341300.0        NEAR BAY  \n",
       "4       565.0       259.0         3.8462            342200.0        NEAR BAY  "
      ]
     },
     "execution_count": 77,
     "metadata": {},
     "output_type": "execute_result"
    }
   ],
   "source": [
    "## use head to examine the first 5 rows of the datasets\n",
    "housing_df.head()"
   ]
  },
  {
   "cell_type": "code",
   "execution_count": 78,
   "id": "2ebd7116-b194-4fdc-a40f-76b92346c9be",
   "metadata": {},
   "outputs": [
    {
     "data": {
      "text/plain": [
       "longitude             float64\n",
       "latitude              float64\n",
       "housing_median_age    float64\n",
       "total_rooms           float64\n",
       "total_bedrooms        float64\n",
       "population            float64\n",
       "households            float64\n",
       "median_income         float64\n",
       "median_house_value    float64\n",
       "ocean_proximity        object\n",
       "dtype: object"
      ]
     },
     "execution_count": 78,
     "metadata": {},
     "output_type": "execute_result"
    }
   ],
   "source": [
    "## Check the data type for each column\n",
    "housing_df.dtypes"
   ]
  },
  {
   "cell_type": "code",
   "execution_count": 79,
   "id": "d198724e-5e89-4851-864d-5956ae16d69f",
   "metadata": {},
   "outputs": [
    {
     "data": {
      "text/plain": [
       "longitude               0\n",
       "latitude                0\n",
       "housing_median_age      0\n",
       "total_rooms             0\n",
       "total_bedrooms        207\n",
       "population              0\n",
       "households              0\n",
       "median_income           0\n",
       "median_house_value      0\n",
       "ocean_proximity         0\n",
       "dtype: int64"
      ]
     },
     "execution_count": 79,
     "metadata": {},
     "output_type": "execute_result"
    }
   ],
   "source": [
    "## Check if there any NAs in the datasets \n",
    "housing_df.isna().sum()"
   ]
  },
  {
   "cell_type": "code",
   "execution_count": null,
   "id": "e38a53a5-cce0-4536-aa54-9653f5e53917",
   "metadata": {},
   "outputs": [],
   "source": []
  },
  {
   "cell_type": "markdown",
   "id": "e2980575-49a4-4422-b66e-451d49c222a2",
   "metadata": {},
   "source": [
    "### Visualise all the columns to see their destributions"
   ]
  },
  {
   "cell_type": "code",
   "execution_count": 80,
   "id": "b06e8386-4614-4d76-be9d-c6260becae98",
   "metadata": {},
   "outputs": [
    {
     "name": "stderr",
     "output_type": "stream",
     "text": [
      "/var/folders/js/95x7pm0d46d9qsgdhmvy56400000gn/T/ipykernel_67300/182762179.py:4: UserWarning: To output multiple subplots, the figure containing the passed axes is being cleared.\n",
      "  housing_df.hist(bins=100, ax=ax, layout=(3, 3), column=['housing_median_age', 'total_rooms','total_bedrooms','population','households','median_income','median_house_value'])\n"
     ]
    },
    {
     "data": {
      "image/png": "[encoded data removed]",
      "text/plain": [
       "<Figure size 2000x1000 with 9 Axes>"
      ]
     },
     "metadata": {},
     "output_type": "display_data"
    }
   ],
   "source": [
    "## Plot all the variables\n",
    "fig = plt.figure(figsize=(20,10))\n",
    "ax = plt.gca()\n",
    "housing_df.hist(bins=100, ax=ax, layout=(3, 3), column=['housing_median_age', 'total_rooms','total_bedrooms','population','households','median_income','median_house_value'])\n",
    "plt.tight_layout()\n",
    "plt.show()"
   ]
  },
  {
   "cell_type": "markdown",
   "id": "e5afa155-9701-46d2-8cc4-618cc9ae0362",
   "metadata": {},
   "source": [
    "### Ploting and looking at the median house value"
   ]
  },
  {
   "cell_type": "code",
   "execution_count": 81,
   "id": "2c6388b3-3eae-4a58-9c64-40e2a91169dc",
   "metadata": {},
   "outputs": [
    {
     "data": {
      "text/plain": [
       "<Axes: xlabel='median_house_value', ylabel='Count'>"
      ]
     },
     "execution_count": 81,
     "metadata": {},
     "output_type": "execute_result"
    },
    {
     "data": {
      "image/png": "[encoded data removed]",
      "text/plain": [
       "<Figure size 640x480 with 1 Axes>"
      ]
     },
     "metadata": {},
     "output_type": "display_data"
    }
   ],
   "source": [
    "\n",
    "sns.histplot(housing_df.median_house_value)"
   ]
  },
  {
   "cell_type": "code",
   "execution_count": 56,
   "id": "0e239963-d091-4471-ba3a-353f0cfe84a6",
   "metadata": {},
   "outputs": [
    {
     "name": "stderr",
     "output_type": "stream",
     "text": [
      "/var/folders/js/95x7pm0d46d9qsgdhmvy56400000gn/T/ipykernel_67300/1535545280.py:1: UserWarning: \n",
      "\n",
      "`distplot` is a deprecated function and will be removed in seaborn v0.14.0.\n",
      "\n",
      "Please adapt your code to use either `displot` (a figure-level function with\n",
      "similar flexibility) or `histplot` (an axes-level function for histograms).\n",
      "\n",
      "For a guide to updating your code to use the new functions, please see\n",
      "https://gist.github.com/mwaskom/de44147ed2974457ad6372750bbe5751\n",
      "\n",
      "  sns.distplot(housing_df.median_house_value)\n"
     ]
    },
    {
     "data": {
      "text/plain": [
       "<Axes: xlabel='median_house_value', ylabel='Density'>"
      ]
     },
     "execution_count": 56,
     "metadata": {},
     "output_type": "execute_result"
    },
    {
     "data": {
      "image/png": "[encoded data removed]",
      "text/plain": [
       "<Figure size 640x480 with 1 Axes>"
      ]
     },
     "metadata": {},
     "output_type": "display_data"
    }
   ],
   "source": [
    "sns.distplot(housing_df.median_house_value)"
   ]
  },
  {
   "cell_type": "markdown",
   "id": "8ed6dba6-e689-4523-bd57-a26bce1c1ba5",
   "metadata": {},
   "source": [
    "### Prepare the data analysis\n",
    "Select the required rows and columns for the machine learning to predict the house pri"
   ]
  },
  {
   "cell_type": "code",
   "execution_count": 82,
   "id": "3b50e3b7-90c9-4c79-a119-b6fd269906e3",
   "metadata": {},
   "outputs": [],
   "source": [
    "## Subset the rows ans columns needed for the analysis\n",
    "columns_needed = ['latitude','longitude','housing_median_age','total_rooms',\n",
    "                    'total_bedrooms','population','households','median_income','median_house_value']\n",
    "housing_df_subset = housing_df.loc[housing_df['ocean_proximity'].isin([\"<1H OCEAN\", \"INLAND\"])][columns_needed]"
   ]
  },
  {
   "cell_type": "code",
   "execution_count": 58,
   "id": "35a2b017-4578-4820-9dba-869412f81fec",
   "metadata": {},
   "outputs": [
    {
     "data": {
      "text/html": [
       "<div>\n",
       "<style scoped>\n",
       "    .dataframe tbody tr th:only-of-type {\n",
       "        vertical-align: middle;\n",
       "    }\n",
       "\n",
       "    .dataframe tbody tr th {\n",
       "        vertical-align: top;\n",
       "    }\n",
       "\n",
       "    .dataframe thead th {\n",
       "        text-align: right;\n",
       "    }\n",
       "</style>\n",
       "<table border=\"1\" class=\"dataframe\">\n",
       "  <thead>\n",
       "    <tr style=\"text-align: right;\">\n",
       "      <th></th>\n",
       "      <th>latitude</th>\n",
       "      <th>longitude</th>\n",
       "      <th>housing_median_age</th>\n",
       "      <th>total_rooms</th>\n",
       "      <th>total_bedrooms</th>\n",
       "      <th>population</th>\n",
       "      <th>households</th>\n",
       "      <th>median_income</th>\n",
       "      <th>median_house_value</th>\n",
       "    </tr>\n",
       "  </thead>\n",
       "  <tbody>\n",
       "    <tr>\n",
       "      <th>701</th>\n",
       "      <td>37.64</td>\n",
       "      <td>-121.97</td>\n",
       "      <td>32.0</td>\n",
       "      <td>1283.0</td>\n",
       "      <td>194.0</td>\n",
       "      <td>485.0</td>\n",
       "      <td>171.0</td>\n",
       "      <td>6.0574</td>\n",
       "      <td>431000.0</td>\n",
       "    </tr>\n",
       "    <tr>\n",
       "      <th>830</th>\n",
       "      <td>37.61</td>\n",
       "      <td>-121.99</td>\n",
       "      <td>9.0</td>\n",
       "      <td>3666.0</td>\n",
       "      <td>711.0</td>\n",
       "      <td>2341.0</td>\n",
       "      <td>703.0</td>\n",
       "      <td>4.6458</td>\n",
       "      <td>217000.0</td>\n",
       "    </tr>\n",
       "    <tr>\n",
       "      <th>859</th>\n",
       "      <td>37.57</td>\n",
       "      <td>-121.97</td>\n",
       "      <td>21.0</td>\n",
       "      <td>4342.0</td>\n",
       "      <td>783.0</td>\n",
       "      <td>2172.0</td>\n",
       "      <td>789.0</td>\n",
       "      <td>4.6146</td>\n",
       "      <td>247600.0</td>\n",
       "    </tr>\n",
       "    <tr>\n",
       "      <th>860</th>\n",
       "      <td>37.58</td>\n",
       "      <td>-121.96</td>\n",
       "      <td>15.0</td>\n",
       "      <td>3575.0</td>\n",
       "      <td>597.0</td>\n",
       "      <td>1777.0</td>\n",
       "      <td>559.0</td>\n",
       "      <td>5.7192</td>\n",
       "      <td>283500.0</td>\n",
       "    </tr>\n",
       "    <tr>\n",
       "      <th>861</th>\n",
       "      <td>37.58</td>\n",
       "      <td>-121.98</td>\n",
       "      <td>20.0</td>\n",
       "      <td>4126.0</td>\n",
       "      <td>1031.0</td>\n",
       "      <td>2079.0</td>\n",
       "      <td>975.0</td>\n",
       "      <td>3.6832</td>\n",
       "      <td>216900.0</td>\n",
       "    </tr>\n",
       "    <tr>\n",
       "      <th>...</th>\n",
       "      <td>...</td>\n",
       "      <td>...</td>\n",
       "      <td>...</td>\n",
       "      <td>...</td>\n",
       "      <td>...</td>\n",
       "      <td>...</td>\n",
       "      <td>...</td>\n",
       "      <td>...</td>\n",
       "      <td>...</td>\n",
       "    </tr>\n",
       "    <tr>\n",
       "      <th>20635</th>\n",
       "      <td>39.48</td>\n",
       "      <td>-121.09</td>\n",
       "      <td>25.0</td>\n",
       "      <td>1665.0</td>\n",
       "      <td>374.0</td>\n",
       "      <td>845.0</td>\n",
       "      <td>330.0</td>\n",
       "      <td>1.5603</td>\n",
       "      <td>78100.0</td>\n",
       "    </tr>\n",
       "    <tr>\n",
       "      <th>20636</th>\n",
       "      <td>39.49</td>\n",
       "      <td>-121.21</td>\n",
       "      <td>18.0</td>\n",
       "      <td>697.0</td>\n",
       "      <td>150.0</td>\n",
       "      <td>356.0</td>\n",
       "      <td>114.0</td>\n",
       "      <td>2.5568</td>\n",
       "      <td>77100.0</td>\n",
       "    </tr>\n",
       "    <tr>\n",
       "      <th>20637</th>\n",
       "      <td>39.43</td>\n",
       "      <td>-121.22</td>\n",
       "      <td>17.0</td>\n",
       "      <td>2254.0</td>\n",
       "      <td>485.0</td>\n",
       "      <td>1007.0</td>\n",
       "      <td>433.0</td>\n",
       "      <td>1.7000</td>\n",
       "      <td>92300.0</td>\n",
       "    </tr>\n",
       "    <tr>\n",
       "      <th>20638</th>\n",
       "      <td>39.43</td>\n",
       "      <td>-121.32</td>\n",
       "      <td>18.0</td>\n",
       "      <td>1860.0</td>\n",
       "      <td>409.0</td>\n",
       "      <td>741.0</td>\n",
       "      <td>349.0</td>\n",
       "      <td>1.8672</td>\n",
       "      <td>84700.0</td>\n",
       "    </tr>\n",
       "    <tr>\n",
       "      <th>20639</th>\n",
       "      <td>39.37</td>\n",
       "      <td>-121.24</td>\n",
       "      <td>16.0</td>\n",
       "      <td>2785.0</td>\n",
       "      <td>616.0</td>\n",
       "      <td>1387.0</td>\n",
       "      <td>530.0</td>\n",
       "      <td>2.3886</td>\n",
       "      <td>89400.0</td>\n",
       "    </tr>\n",
       "  </tbody>\n",
       "</table>\n",
       "<p>15687 rows × 9 columns</p>\n",
       "</div>"
      ],
      "text/plain": [
       "       latitude  longitude  housing_median_age  total_rooms  total_bedrooms  \\\n",
       "701       37.64    -121.97                32.0       1283.0           194.0   \n",
       "830       37.61    -121.99                 9.0       3666.0           711.0   \n",
       "859       37.57    -121.97                21.0       4342.0           783.0   \n",
       "860       37.58    -121.96                15.0       3575.0           597.0   \n",
       "861       37.58    -121.98                20.0       4126.0          1031.0   \n",
       "...         ...        ...                 ...          ...             ...   \n",
       "20635     39.48    -121.09                25.0       1665.0           374.0   \n",
       "20636     39.49    -121.21                18.0        697.0           150.0   \n",
       "20637     39.43    -121.22                17.0       2254.0           485.0   \n",
       "20638     39.43    -121.32                18.0       1860.0           409.0   \n",
       "20639     39.37    -121.24                16.0       2785.0           616.0   \n",
       "\n",
       "       population  households  median_income  median_house_value  \n",
       "701         485.0       171.0         6.0574            431000.0  \n",
       "830        2341.0       703.0         4.6458            217000.0  \n",
       "859        2172.0       789.0         4.6146            247600.0  \n",
       "860        1777.0       559.0         5.7192            283500.0  \n",
       "861        2079.0       975.0         3.6832            216900.0  \n",
       "...           ...         ...            ...                 ...  \n",
       "20635       845.0       330.0         1.5603             78100.0  \n",
       "20636       356.0       114.0         2.5568             77100.0  \n",
       "20637      1007.0       433.0         1.7000             92300.0  \n",
       "20638       741.0       349.0         1.8672             84700.0  \n",
       "20639      1387.0       530.0         2.3886             89400.0  \n",
       "\n",
       "[15687 rows x 9 columns]"
      ]
     },
     "execution_count": 58,
     "metadata": {},
     "output_type": "execute_result"
    }
   ],
   "source": [
    "housing_df_subset"
   ]
  },
  {
   "cell_type": "code",
   "execution_count": 83,
   "id": "1cb860d2-1f5f-4e37-bd1f-bd94cd02549b",
   "metadata": {},
   "outputs": [
    {
     "data": {
      "text/html": [
       "<div>\n",
       "<style scoped>\n",
       "    .dataframe tbody tr th:only-of-type {\n",
       "        vertical-align: middle;\n",
       "    }\n",
       "\n",
       "    .dataframe tbody tr th {\n",
       "        vertical-align: top;\n",
       "    }\n",
       "\n",
       "    .dataframe thead th {\n",
       "        text-align: right;\n",
       "    }\n",
       "</style>\n",
       "<table border=\"1\" class=\"dataframe\">\n",
       "  <thead>\n",
       "    <tr style=\"text-align: right;\">\n",
       "      <th></th>\n",
       "      <th>count</th>\n",
       "      <th>mean</th>\n",
       "      <th>std</th>\n",
       "      <th>min</th>\n",
       "      <th>0%</th>\n",
       "      <th>10%</th>\n",
       "      <th>25%</th>\n",
       "      <th>50%</th>\n",
       "      <th>75%</th>\n",
       "      <th>90%</th>\n",
       "      <th>95%</th>\n",
       "      <th>99%</th>\n",
       "      <th>max</th>\n",
       "    </tr>\n",
       "  </thead>\n",
       "  <tbody>\n",
       "    <tr>\n",
       "      <th>latitude</th>\n",
       "      <td>15687.0</td>\n",
       "      <td>35.467307</td>\n",
       "      <td>2.066387</td>\n",
       "      <td>32.6100</td>\n",
       "      <td>32.6100</td>\n",
       "      <td>33.750</td>\n",
       "      <td>33.9400</td>\n",
       "      <td>34.1600</td>\n",
       "      <td>37.3400</td>\n",
       "      <td>38.59000</td>\n",
       "      <td>39.12000</td>\n",
       "      <td>40.570000</td>\n",
       "      <td>41.9500</td>\n",
       "    </tr>\n",
       "    <tr>\n",
       "      <th>longitude</th>\n",
       "      <td>15687.0</td>\n",
       "      <td>-119.217442</td>\n",
       "      <td>1.780380</td>\n",
       "      <td>-124.1400</td>\n",
       "      <td>-124.1400</td>\n",
       "      <td>-121.900</td>\n",
       "      <td>-121.0700</td>\n",
       "      <td>-118.3700</td>\n",
       "      <td>-117.9900</td>\n",
       "      <td>-117.37000</td>\n",
       "      <td>-117.07000</td>\n",
       "      <td>-116.077200</td>\n",
       "      <td>-114.3100</td>\n",
       "    </tr>\n",
       "    <tr>\n",
       "      <th>housing_median_age</th>\n",
       "      <td>15687.0</td>\n",
       "      <td>27.188118</td>\n",
       "      <td>12.057128</td>\n",
       "      <td>1.0000</td>\n",
       "      <td>1.0000</td>\n",
       "      <td>11.000</td>\n",
       "      <td>17.0000</td>\n",
       "      <td>27.0000</td>\n",
       "      <td>36.0000</td>\n",
       "      <td>43.00000</td>\n",
       "      <td>48.00000</td>\n",
       "      <td>52.000000</td>\n",
       "      <td>52.0000</td>\n",
       "    </tr>\n",
       "    <tr>\n",
       "      <th>total_rooms</th>\n",
       "      <td>15687.0</td>\n",
       "      <td>2665.677312</td>\n",
       "      <td>2257.672743</td>\n",
       "      <td>2.0000</td>\n",
       "      <td>2.0000</td>\n",
       "      <td>937.000</td>\n",
       "      <td>1441.0000</td>\n",
       "      <td>2118.0000</td>\n",
       "      <td>3172.0000</td>\n",
       "      <td>4773.00000</td>\n",
       "      <td>6386.50000</td>\n",
       "      <td>11637.660000</td>\n",
       "      <td>39320.0000</td>\n",
       "    </tr>\n",
       "    <tr>\n",
       "      <th>total_bedrooms</th>\n",
       "      <td>15530.0</td>\n",
       "      <td>541.244688</td>\n",
       "      <td>435.650018</td>\n",
       "      <td>2.0000</td>\n",
       "      <td>2.0000</td>\n",
       "      <td>197.000</td>\n",
       "      <td>295.0000</td>\n",
       "      <td>432.0000</td>\n",
       "      <td>645.0000</td>\n",
       "      <td>976.00000</td>\n",
       "      <td>1300.00000</td>\n",
       "      <td>2292.710000</td>\n",
       "      <td>6445.0000</td>\n",
       "    </tr>\n",
       "    <tr>\n",
       "      <th>population</th>\n",
       "      <td>15687.0</td>\n",
       "      <td>1466.317205</td>\n",
       "      <td>1180.389908</td>\n",
       "      <td>3.0000</td>\n",
       "      <td>3.0000</td>\n",
       "      <td>519.000</td>\n",
       "      <td>802.0000</td>\n",
       "      <td>1195.0000</td>\n",
       "      <td>1777.0000</td>\n",
       "      <td>2654.40000</td>\n",
       "      <td>3426.70000</td>\n",
       "      <td>6015.080000</td>\n",
       "      <td>35682.0000</td>\n",
       "    </tr>\n",
       "    <tr>\n",
       "      <th>households</th>\n",
       "      <td>15687.0</td>\n",
       "      <td>500.916491</td>\n",
       "      <td>392.759399</td>\n",
       "      <td>2.0000</td>\n",
       "      <td>2.0000</td>\n",
       "      <td>182.600</td>\n",
       "      <td>278.0000</td>\n",
       "      <td>406.0000</td>\n",
       "      <td>602.0000</td>\n",
       "      <td>902.00000</td>\n",
       "      <td>1189.00000</td>\n",
       "      <td>2038.280000</td>\n",
       "      <td>6082.0000</td>\n",
       "    </tr>\n",
       "    <tr>\n",
       "      <th>median_income</th>\n",
       "      <td>15687.0</td>\n",
       "      <td>3.804019</td>\n",
       "      <td>1.857158</td>\n",
       "      <td>0.4999</td>\n",
       "      <td>0.4999</td>\n",
       "      <td>1.875</td>\n",
       "      <td>2.5208</td>\n",
       "      <td>3.4688</td>\n",
       "      <td>4.6862</td>\n",
       "      <td>6.08164</td>\n",
       "      <td>7.11438</td>\n",
       "      <td>10.358868</td>\n",
       "      <td>15.0001</td>\n",
       "    </tr>\n",
       "    <tr>\n",
       "      <th>median_house_value</th>\n",
       "      <td>15687.0</td>\n",
       "      <td>191943.020017</td>\n",
       "      <td>108801.077620</td>\n",
       "      <td>14999.0000</td>\n",
       "      <td>14999.0000</td>\n",
       "      <td>74800.000</td>\n",
       "      <td>111300.0000</td>\n",
       "      <td>166900.0000</td>\n",
       "      <td>241100.0000</td>\n",
       "      <td>347700.00000</td>\n",
       "      <td>440900.00000</td>\n",
       "      <td>500001.000000</td>\n",
       "      <td>500001.0000</td>\n",
       "    </tr>\n",
       "  </tbody>\n",
       "</table>\n",
       "</div>"
      ],
      "text/plain": [
       "                      count           mean            std         min  \\\n",
       "latitude            15687.0      35.467307       2.066387     32.6100   \n",
       "longitude           15687.0    -119.217442       1.780380   -124.1400   \n",
       "housing_median_age  15687.0      27.188118      12.057128      1.0000   \n",
       "total_rooms         15687.0    2665.677312    2257.672743      2.0000   \n",
       "total_bedrooms      15530.0     541.244688     435.650018      2.0000   \n",
       "population          15687.0    1466.317205    1180.389908      3.0000   \n",
       "households          15687.0     500.916491     392.759399      2.0000   \n",
       "median_income       15687.0       3.804019       1.857158      0.4999   \n",
       "median_house_value  15687.0  191943.020017  108801.077620  14999.0000   \n",
       "\n",
       "                            0%        10%          25%          50%  \\\n",
       "latitude               32.6100     33.750      33.9400      34.1600   \n",
       "longitude            -124.1400   -121.900    -121.0700    -118.3700   \n",
       "housing_median_age      1.0000     11.000      17.0000      27.0000   \n",
       "total_rooms             2.0000    937.000    1441.0000    2118.0000   \n",
       "total_bedrooms          2.0000    197.000     295.0000     432.0000   \n",
       "population              3.0000    519.000     802.0000    1195.0000   \n",
       "households              2.0000    182.600     278.0000     406.0000   \n",
       "median_income           0.4999      1.875       2.5208       3.4688   \n",
       "median_house_value  14999.0000  74800.000  111300.0000  166900.0000   \n",
       "\n",
       "                            75%           90%           95%            99%  \\\n",
       "latitude                37.3400      38.59000      39.12000      40.570000   \n",
       "longitude             -117.9900    -117.37000    -117.07000    -116.077200   \n",
       "housing_median_age      36.0000      43.00000      48.00000      52.000000   \n",
       "total_rooms           3172.0000    4773.00000    6386.50000   11637.660000   \n",
       "total_bedrooms         645.0000     976.00000    1300.00000    2292.710000   \n",
       "population            1777.0000    2654.40000    3426.70000    6015.080000   \n",
       "households             602.0000     902.00000    1189.00000    2038.280000   \n",
       "median_income            4.6862       6.08164       7.11438      10.358868   \n",
       "median_house_value  241100.0000  347700.00000  440900.00000  500001.000000   \n",
       "\n",
       "                            max  \n",
       "latitude                41.9500  \n",
       "longitude             -114.3100  \n",
       "housing_median_age      52.0000  \n",
       "total_rooms          39320.0000  \n",
       "total_bedrooms        6445.0000  \n",
       "population           35682.0000  \n",
       "households            6082.0000  \n",
       "median_income           15.0001  \n",
       "median_house_value  500001.0000  "
      ]
     },
     "execution_count": 83,
     "metadata": {},
     "output_type": "execute_result"
    }
   ],
   "source": [
    "housing_df_subset.describe(percentiles=[.0, .25, .5, .75, .9, .95, .99, .1]).T"
   ]
  },
  {
   "cell_type": "markdown",
   "id": "9b3382bc-c5de-4c8f-aef5-31c9d8fb5815",
   "metadata": {},
   "source": [
    "### Question 1\n",
    "There's one feature with missing values. What is it?\n",
    "\n",
    "Ans: total_bedrooms with 157 missing values"
   ]
  },
  {
   "cell_type": "code",
   "execution_count": 84,
   "id": "0654c92b-afa2-4160-9971-10abf9267364",
   "metadata": {},
   "outputs": [
    {
     "data": {
      "text/plain": [
       "total_bedrooms    157\n",
       "dtype: int64"
      ]
     },
     "execution_count": 84,
     "metadata": {},
     "output_type": "execute_result"
    }
   ],
   "source": [
    "## Columns with missing values\n",
    "housing_df_subset.isna().sum()[housing_df_subset.isna().sum() > 0]"
   ]
  },
  {
   "cell_type": "markdown",
   "id": "96392966-c04f-43c1-85df-33ab592c6483",
   "metadata": {},
   "source": [
    "### Question 2 \n",
    "What's the median (50% percentile) for variable 'population'?\n",
    "\n",
    "Ans: The median value for the populations is 1195"
   ]
  },
  {
   "cell_type": "code",
   "execution_count": 85,
   "id": "874a5d03-4819-4624-9033-7b692c32f992",
   "metadata": {},
   "outputs": [
    {
     "data": {
      "text/plain": [
       "1195"
      ]
     },
     "execution_count": 85,
     "metadata": {},
     "output_type": "execute_result"
    }
   ],
   "source": [
    "int(housing_df_subset.population.median())"
   ]
  },
  {
   "cell_type": "markdown",
   "id": "eceb42ce-c3ff-4b69-875d-2bfe281e551b",
   "metadata": {},
   "source": [
    "### Prepare and split the dataset"
   ]
  },
  {
   "cell_type": "code",
   "execution_count": 86,
   "id": "35cf3b5c-1aec-476b-8466-1637690c3e23",
   "metadata": {},
   "outputs": [],
   "source": [
    "## Set random seeds for spliting the data\n",
    "np.random.seed(42)\n",
    "n = len(housing_df_subset)\n",
    "idx = np.arange(n)\n",
    "np.random.shuffle(idx)\n"
   ]
  },
  {
   "cell_type": "code",
   "execution_count": 87,
   "id": "1b5b8d44-555e-4f3e-b372-b3e134eca731",
   "metadata": {},
   "outputs": [
    {
     "name": "stdout",
     "output_type": "stream",
     "text": [
      "15687 15687 9413 3137 3137\n"
     ]
    }
   ],
   "source": [
    "n_test = int(n * 0.2)\n",
    "n_val = int(n * 0.2)\n",
    "n_train = n - (n_test + n_val)\n",
    "\n",
    "print(n, n_train + n_test + n_val, n_train, n_test, n_val)"
   ]
  },
  {
   "cell_type": "code",
   "execution_count": 88,
   "id": "594e2b93-8622-43c4-a2c8-a4f80f6252e5",
   "metadata": {},
   "outputs": [],
   "source": [
    "df_train = housing_df_subset.iloc[idx[:n_train]]\n",
    "df_val = housing_df_subset.iloc[idx[n_train:n_train + n_val]]\n",
    "df_test = housing_df_subset.iloc[idx[n_train + n_val:]]\n"
   ]
  },
  {
   "cell_type": "code",
   "execution_count": 89,
   "id": "e43ce3ed-cbb0-4f53-ba2d-86719c92798f",
   "metadata": {},
   "outputs": [],
   "source": [
    "df_train = df_train.reset_index(drop=True)\n",
    "df_test = df_test.reset_index(drop=True)\n",
    "df_val = df_val.reset_index(drop=True)"
   ]
  },
  {
   "cell_type": "code",
   "execution_count": 90,
   "id": "49a4a996-6c7f-4ab6-a9bd-aee4c1552f88",
   "metadata": {},
   "outputs": [],
   "source": [
    "y_train_original = df_train.median_house_value.values\n",
    "y_test_orginal = df_test.median_house_value.values\n",
    "y_val_original = df_val.median_house_value.values\n",
    "\n",
    "y_train = np.log1p(y_train_original)\n",
    "y_test = np.log1p(y_test_orginal)\n",
    "y_val = np.log1p(y_val_original)\n",
    "\n",
    "del df_train[\"median_house_value\"]\n",
    "del df_test[\"median_house_value\"]\n",
    "del df_val[\"median_house_value\"]"
   ]
  },
  {
   "cell_type": "markdown",
   "id": "1805ffeb-3246-4964-8d58-491bcfad9956",
   "metadata": {},
   "source": [
    "### Question 3"
   ]
  },
  {
   "cell_type": "markdown",
   "id": "7df42997-f4b4-4a45-9484-cd30270bb3a8",
   "metadata": {},
   "source": [
    "### Filling the missing value"
   ]
  },
  {
   "cell_type": "code",
   "execution_count": 143,
   "id": "b6c5437f-fa4b-4fca-89bf-54d38b941c68",
   "metadata": {},
   "outputs": [],
   "source": [
    "def prepare_X(df, fillna_value):\n",
    "    df = df.copy()\n",
    "    df = df.fillna(fillna_value)\n",
    "    X = df.values\n",
    "    return X\n",
    "\n",
    "\n",
    "def rmse(y, y_pred):\n",
    "    se = (( y - y_pred) ** 2).mean()\n",
    "    return np.sqrt(se)\n",
    "    \n",
    "    \n",
    "def train_linear_regression(X, y):\n",
    "    ones = np.ones(X.shape[0])\n",
    "    X = np.column_stack([ones, X])\n",
    "\n",
    "    XTX = X.T.dot(X)\n",
    "    XTX_inv = np.linalg.inv(XTX)\n",
    "    w = XTX_inv.dot(X.T).dot(y)\n",
    "    \n",
    "    return w[0], w[1:]\n"
   ]
  },
  {
   "cell_type": "markdown",
   "id": "6cc556ef-accf-457b-847c-73b03196bcf4",
   "metadata": {},
   "source": [
    "#### Test mean first"
   ]
  },
  {
   "cell_type": "code",
   "execution_count": 144,
   "id": "6529173a-aeee-44e3-9753-871c9edede4b",
   "metadata": {},
   "outputs": [
    {
     "data": {
      "text/plain": [
       "0.3333238101457328"
      ]
     },
     "execution_count": 144,
     "metadata": {},
     "output_type": "execute_result"
    }
   ],
   "source": [
    "total_bedrooms_mean = df_train.total_bedrooms.mean()\n",
    "\n",
    "X_train = prepare_X(df_train, total_bedrooms_mean)\n",
    "\n",
    "\n",
    "w_0, w = train_linear_regression(X_train, y_train)\n",
    "\n",
    "X_val = prepare_X(df_val, fillna_value=total_bedrooms_mean)\n",
    "y_pred = w_0 + X_val.dot(w)\n",
    "\n",
    "rmse(y_val, y_pred)\n"
   ]
  },
  {
   "cell_type": "markdown",
   "id": "26e0e13f-b59c-4dd1-829d-80d0cd53385c",
   "metadata": {},
   "source": [
    "#### Test with zero"
   ]
  },
  {
   "cell_type": "code",
   "execution_count": 145,
   "id": "b963609b-504f-406a-a8ae-ead585346ee8",
   "metadata": {},
   "outputs": [
    {
     "data": {
      "text/plain": [
       "0.33415582665298454"
      ]
     },
     "execution_count": 145,
     "metadata": {},
     "output_type": "execute_result"
    }
   ],
   "source": [
    "X_train = prepare_X(df_train, 0)\n",
    "\n",
    "\n",
    "w_0, w = train_linear_regression(X_train, y_train)\n",
    "\n",
    "X_val = prepare_X(df_val, fillna_value=0)\n",
    "y_pred = w_0 + X_val.dot(w)\n",
    "\n",
    "rmse(y_val, y_pred)\n"
   ]
  },
  {
   "cell_type": "markdown",
   "id": "a763c7e3-ab01-4249-80c4-438c197b33eb",
   "metadata": {},
   "source": [
    "### Question 4 Regularisation"
   ]
  },
  {
   "cell_type": "code",
   "execution_count": 146,
   "id": "84abda0f-de1b-4674-9c3a-4cdabdf60ead",
   "metadata": {},
   "outputs": [],
   "source": [
    "def train_linear_regression(X, y, r=0.0):\n",
    "    ones = np.ones(X.shape[0])\n",
    "    X = np.column_stack([ones, X])\n",
    "\n",
    "    XTX = X.T.dot(X)\n",
    "    reg = r * np.eye(XTX.shape[0])\n",
    "    XTX= XTX + reg\n",
    "    \n",
    "    XTX_inv = np.linalg.inv(XTX)\n",
    "    w = XTX_inv.dot(X.T).dot(y)\n",
    "    \n",
    "    return w[0], w[1:]"
   ]
  },
  {
   "cell_type": "code",
   "execution_count": 148,
   "id": "214b5f56-0115-48ae-bb06-a42278d33a65",
   "metadata": {},
   "outputs": [
    {
     "name": "stdout",
     "output_type": "stream",
     "text": [
      "RSME value:          0 is 0.33415582665298454\n",
      "RSME value:      1e-06 is 0.3341558238025731\n",
      "RSME value:     0.0001 is 0.33415554224275285\n",
      "RSME value:      0.001 is 0.3341530188124614\n",
      "RSME value:       0.01 is 0.33413123609128037\n",
      "RSME value:        0.1 is 0.3341554915457138\n",
      "RSME value:          1 is 0.33679181130790287\n",
      "RSME value:          5 is 0.33934282802293203\n",
      "RSME value:         10 is 0.33987999985514245\n",
      "The best r value is: 0.01  with rsme of 0.33413123609128037\n"
     ]
    }
   ],
   "source": [
    "r_values = [0, 0.000001, 0.0001, 0.001, 0.01, 0.1, 1, 5, 10]\n",
    "min_value = 100000\n",
    "min_r = ''\n",
    "for r in r_values:\n",
    "    w_0, w = train_linear_regression(X_train, y_train, r=r)\n",
    "    X_val = prepare_X(df_val, fillna_value=0)\n",
    "    y_pred = w_0 + X_val.dot(w)\n",
    "\n",
    "    rsme_value = rmse(y_val, y_pred)\n",
    "    rsme_val_list.append(rsme_value)\n",
    "    \n",
    "    if rsme_value < min_value:\n",
    "        min_value = rsme_value\n",
    "        min_r = str(r)\n",
    "\n",
    "    print(\"RSME value: {0:10} is {1}\".format(r, rsme_value))\n",
    "\n",
    "\n",
    "print(\"The best r value is: {0:5} with rsme of {1}\".format(min_r, min_value))"
   ]
  },
  {
   "cell_type": "markdown",
   "id": "a8ee59ff-3ce2-4946-a96e-19273ca45117",
   "metadata": {},
   "source": [
    "### Question 5"
   ]
  },
  {
   "cell_type": "code",
   "execution_count": 155,
   "id": "38e78942-2e7e-4fe5-a86e-189c7cd728d4",
   "metadata": {},
   "outputs": [
    {
     "name": "stdout",
     "output_type": "stream",
     "text": [
      "RSME value for seed is 0.3377387160082512\n",
      "RSME value for seed is 0.3377999353662671\n",
      "RSME value for seed is 0.33842870067715325\n",
      "RSME value for seed is 0.33200494683064413\n",
      "RSME value for seed is 0.3394451862555799\n",
      "RSME value for seed is 0.3433819705287994\n",
      "RSME value for seed is 0.3385330211770828\n",
      "RSME value for seed is 0.34687476972931436\n",
      "RSME value for seed is 0.3512736865968845\n",
      "RSME value for seed is 0.33415582665298454\n",
      "0.005\n"
     ]
    }
   ],
   "source": [
    "seed_values = [0, 1, 2, 3, 4, 5, 6, 7, 8, 9]\n",
    "\n",
    "rsme_values = []\n",
    "for seed in seed_values:\n",
    "    np.random.seed(seed)\n",
    "    n = len(housing_df_subset)\n",
    "    idx = np.arange(n)\n",
    "    np.random.shuffle(idx)\n",
    "    \n",
    "    n_test = int(n * 0.2)\n",
    "    n_val = int(n * 0.2)\n",
    "    n_train = n - (n_test + n_val)\n",
    "    \n",
    "    df_train = housing_df_subset.iloc[idx[:n_train]]\n",
    "    df_val = housing_df_subset.iloc[idx[n_train:n_train + n_val]]\n",
    "    df_test = housing_df_subset.iloc[idx[n_train + n_val:]]\n",
    "    \n",
    "    df_train = df_train.reset_index(drop=True)\n",
    "    df_test = df_test.reset_index(drop=True)\n",
    "    df_val = df_val.reset_index(drop=True)\n",
    "    \n",
    "    y_train_original = df_train.median_house_value.values\n",
    "    y_test_orginal = df_test.median_house_value.values\n",
    "    y_val_original = df_val.median_house_value.values\n",
    "    \n",
    "    y_train = np.log1p(y_train_original)\n",
    "    y_test = np.log1p(y_test_orginal)\n",
    "    y_val = np.log1p(y_val_original)\n",
    "    \n",
    "    del df_train[\"median_house_value\"]\n",
    "    del df_test[\"median_house_value\"]\n",
    "    del df_val[\"median_house_value\"]\n",
    "    \n",
    "    X_train = prepare_X(df_train, 0)\n",
    "    \n",
    "    \n",
    "    w_0, w = train_linear_regression(X_train, y_train)\n",
    "    \n",
    "    X_val = prepare_X(df_val, fillna_value=0)\n",
    "    y_pred = w_0 + X_val.dot(w)\n",
    "\n",
    "    \n",
    "    rsme_value = rmse(y_val, y_pred)\n",
    "    rsme_values.append(rsme_value)\n",
    "    print(\"RSME value for seed is {1}\".format(seed, rsme_value))\n",
    "\n",
    "\n",
    "print(round(np.std(rsme_values), 3))"
   ]
  },
  {
   "cell_type": "code",
   "execution_count": null,
   "id": "0829d711-2a04-491e-8857-367728b9202c",
   "metadata": {},
   "outputs": [],
   "source": []
  }
 ],
 "metadata": {
  "kernelspec": {
   "display_name": "Python 3 (ipykernel)",
   "language": "python",
   "name": "python3"
  },
  "language_info": {
   "codemirror_mode": {
    "name": "ipython",
    "version": 3
   },
   "file_extension": ".py",
   "mimetype": "text/x-python",
   "name": "python",
   "nbconvert_exporter": "python",
   "pygments_lexer": "ipython3",
   "version": "3.10.14"
  }
 },
 "nbformat": 4,
 "nbformat_minor": 5
}
