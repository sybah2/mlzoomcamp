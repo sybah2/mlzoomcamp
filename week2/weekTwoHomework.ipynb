{
 "cells": [
  {
   "cell_type": "markdown",
   "id": "16ad0fdc-b9d6-4fd6-9616-2daa8f1ab814",
   "metadata": {},
   "source": [
    "## Week 2 homework.\n",
    "This workbook is the answers for the second week of machine learning zoomcamp"
   ]
  },
  {
   "cell_type": "markdown",
   "id": "dc66a447-f961-4732-a7be-0b318f36510c",
   "metadata": {},
   "source": [
    "#### load the libaries needed"
   ]
  },
  {
   "cell_type": "code",
   "execution_count": 1,
   "id": "5f0bd009-0e3d-48ee-9c2f-12032084336c",
   "metadata": {},
   "outputs": [],
   "source": [
    "import pandas as pd\n",
    "import numpy as np\n",
    "import seaborn as sns\n",
    "import matplotlib.pyplot as plt\n",
    "\n",
    "%matplotlib inline"
   ]
  },
  {
   "cell_type": "markdown",
   "id": "5bec0998-3bb1-4ee2-932d-bcf1e5187a1b",
   "metadata": {},
   "source": [
    "#### Down the data for the analysis"
   ]
  },
  {
   "cell_type": "code",
   "execution_count": 155,
   "id": "fa04308a-629e-4935-b098-92d026c7cd3a",
   "metadata": {},
   "outputs": [],
   "source": [
    "#!rm labtops.csv\n",
    "#!wget https://raw.githubusercontent.com/alexeygrigorev/datasets/master/laptops.csv"
   ]
  },
  {
   "cell_type": "markdown",
   "id": "63fc4e2f-6c04-4135-a9ef-b435021a4d36",
   "metadata": {},
   "source": [
    "#### Load the data using pandas"
   ]
  },
  {
   "cell_type": "code",
   "execution_count": 2,
   "id": "a10d3753-9ecc-4835-b60e-bb19b38fcc37",
   "metadata": {},
   "outputs": [
    {
     "data": {
      "text/plain": [
       "Laptop             0\n",
       "Status             0\n",
       "Brand              0\n",
       "Model              0\n",
       "CPU                0\n",
       "RAM                0\n",
       "Storage            0\n",
       "Storage type      42\n",
       "GPU             1371\n",
       "Screen             4\n",
       "Touch              0\n",
       "Final Price        0\n",
       "dtype: int64"
      ]
     },
     "execution_count": 2,
     "metadata": {},
     "output_type": "execute_result"
    }
   ],
   "source": [
    "df = pd.read_csv('laptops.csv')\n",
    "df.isna().sum()"
   ]
  },
  {
   "cell_type": "markdown",
   "id": "7e2fb69b-13b8-47d9-ac65-aeb305ad1c51",
   "metadata": {},
   "source": [
    "#### Basic EDA to examine the data"
   ]
  },
  {
   "cell_type": "code",
   "execution_count": 3,
   "id": "41e9a283-3e4d-4ea2-b486-4274bca275e8",
   "metadata": {},
   "outputs": [
    {
     "data": {
      "text/html": [
       "<div>\n",
       "<style scoped>\n",
       "    .dataframe tbody tr th:only-of-type {\n",
       "        vertical-align: middle;\n",
       "    }\n",
       "\n",
       "    .dataframe tbody tr th {\n",
       "        vertical-align: top;\n",
       "    }\n",
       "\n",
       "    .dataframe thead th {\n",
       "        text-align: right;\n",
       "    }\n",
       "</style>\n",
       "<table border=\"1\" class=\"dataframe\">\n",
       "  <thead>\n",
       "    <tr style=\"text-align: right;\">\n",
       "      <th></th>\n",
       "      <th>Laptop</th>\n",
       "      <th>Status</th>\n",
       "      <th>Brand</th>\n",
       "      <th>Model</th>\n",
       "      <th>CPU</th>\n",
       "      <th>RAM</th>\n",
       "      <th>Storage</th>\n",
       "      <th>Storage type</th>\n",
       "      <th>GPU</th>\n",
       "      <th>Screen</th>\n",
       "      <th>Touch</th>\n",
       "      <th>Final Price</th>\n",
       "    </tr>\n",
       "  </thead>\n",
       "  <tbody>\n",
       "    <tr>\n",
       "      <th>0</th>\n",
       "      <td>ASUS ExpertBook B1 B1502CBA-EJ0436X Intel Core...</td>\n",
       "      <td>New</td>\n",
       "      <td>Asus</td>\n",
       "      <td>ExpertBook</td>\n",
       "      <td>Intel Core i5</td>\n",
       "      <td>8</td>\n",
       "      <td>512</td>\n",
       "      <td>SSD</td>\n",
       "      <td>NaN</td>\n",
       "      <td>15.6</td>\n",
       "      <td>No</td>\n",
       "      <td>1009.00</td>\n",
       "    </tr>\n",
       "    <tr>\n",
       "      <th>1</th>\n",
       "      <td>Alurin Go Start Intel Celeron N4020/8GB/256GB ...</td>\n",
       "      <td>New</td>\n",
       "      <td>Alurin</td>\n",
       "      <td>Go</td>\n",
       "      <td>Intel Celeron</td>\n",
       "      <td>8</td>\n",
       "      <td>256</td>\n",
       "      <td>SSD</td>\n",
       "      <td>NaN</td>\n",
       "      <td>15.6</td>\n",
       "      <td>No</td>\n",
       "      <td>299.00</td>\n",
       "    </tr>\n",
       "    <tr>\n",
       "      <th>2</th>\n",
       "      <td>ASUS ExpertBook B1 B1502CBA-EJ0424X Intel Core...</td>\n",
       "      <td>New</td>\n",
       "      <td>Asus</td>\n",
       "      <td>ExpertBook</td>\n",
       "      <td>Intel Core i3</td>\n",
       "      <td>8</td>\n",
       "      <td>256</td>\n",
       "      <td>SSD</td>\n",
       "      <td>NaN</td>\n",
       "      <td>15.6</td>\n",
       "      <td>No</td>\n",
       "      <td>789.00</td>\n",
       "    </tr>\n",
       "    <tr>\n",
       "      <th>3</th>\n",
       "      <td>MSI Katana GF66 12UC-082XES Intel Core i7-1270...</td>\n",
       "      <td>New</td>\n",
       "      <td>MSI</td>\n",
       "      <td>Katana</td>\n",
       "      <td>Intel Core i7</td>\n",
       "      <td>16</td>\n",
       "      <td>1000</td>\n",
       "      <td>SSD</td>\n",
       "      <td>RTX 3050</td>\n",
       "      <td>15.6</td>\n",
       "      <td>No</td>\n",
       "      <td>1199.00</td>\n",
       "    </tr>\n",
       "    <tr>\n",
       "      <th>4</th>\n",
       "      <td>HP 15S-FQ5085NS Intel Core i5-1235U/16GB/512GB...</td>\n",
       "      <td>New</td>\n",
       "      <td>HP</td>\n",
       "      <td>15S</td>\n",
       "      <td>Intel Core i5</td>\n",
       "      <td>16</td>\n",
       "      <td>512</td>\n",
       "      <td>SSD</td>\n",
       "      <td>NaN</td>\n",
       "      <td>15.6</td>\n",
       "      <td>No</td>\n",
       "      <td>669.01</td>\n",
       "    </tr>\n",
       "  </tbody>\n",
       "</table>\n",
       "</div>"
      ],
      "text/plain": [
       "                                              Laptop Status   Brand  \\\n",
       "0  ASUS ExpertBook B1 B1502CBA-EJ0436X Intel Core...    New    Asus   \n",
       "1  Alurin Go Start Intel Celeron N4020/8GB/256GB ...    New  Alurin   \n",
       "2  ASUS ExpertBook B1 B1502CBA-EJ0424X Intel Core...    New    Asus   \n",
       "3  MSI Katana GF66 12UC-082XES Intel Core i7-1270...    New     MSI   \n",
       "4  HP 15S-FQ5085NS Intel Core i5-1235U/16GB/512GB...    New      HP   \n",
       "\n",
       "        Model            CPU  RAM  Storage Storage type       GPU  Screen  \\\n",
       "0  ExpertBook  Intel Core i5    8      512          SSD       NaN    15.6   \n",
       "1          Go  Intel Celeron    8      256          SSD       NaN    15.6   \n",
       "2  ExpertBook  Intel Core i3    8      256          SSD       NaN    15.6   \n",
       "3      Katana  Intel Core i7   16     1000          SSD  RTX 3050    15.6   \n",
       "4         15S  Intel Core i5   16      512          SSD       NaN    15.6   \n",
       "\n",
       "  Touch  Final Price  \n",
       "0    No      1009.00  \n",
       "1    No       299.00  \n",
       "2    No       789.00  \n",
       "3    No      1199.00  \n",
       "4    No       669.01  "
      ]
     },
     "execution_count": 3,
     "metadata": {},
     "output_type": "execute_result"
    }
   ],
   "source": [
    "df.head()"
   ]
  },
  {
   "cell_type": "code",
   "execution_count": 4,
   "id": "90dc7b65-f933-4780-9d84-3ad01874eba2",
   "metadata": {},
   "outputs": [
    {
     "data": {
      "text/html": [
       "<div>\n",
       "<style scoped>\n",
       "    .dataframe tbody tr th:only-of-type {\n",
       "        vertical-align: middle;\n",
       "    }\n",
       "\n",
       "    .dataframe tbody tr th {\n",
       "        vertical-align: top;\n",
       "    }\n",
       "\n",
       "    .dataframe thead th {\n",
       "        text-align: right;\n",
       "    }\n",
       "</style>\n",
       "<table border=\"1\" class=\"dataframe\">\n",
       "  <thead>\n",
       "    <tr style=\"text-align: right;\">\n",
       "      <th></th>\n",
       "      <th>RAM</th>\n",
       "      <th>Storage</th>\n",
       "      <th>Screen</th>\n",
       "      <th>Final Price</th>\n",
       "    </tr>\n",
       "  </thead>\n",
       "  <tbody>\n",
       "    <tr>\n",
       "      <th>count</th>\n",
       "      <td>2160.000000</td>\n",
       "      <td>2160.000000</td>\n",
       "      <td>2156.000000</td>\n",
       "      <td>2160.000000</td>\n",
       "    </tr>\n",
       "    <tr>\n",
       "      <th>mean</th>\n",
       "      <td>15.413889</td>\n",
       "      <td>596.294444</td>\n",
       "      <td>15.168112</td>\n",
       "      <td>1312.638509</td>\n",
       "    </tr>\n",
       "    <tr>\n",
       "      <th>std</th>\n",
       "      <td>9.867815</td>\n",
       "      <td>361.220506</td>\n",
       "      <td>1.203329</td>\n",
       "      <td>911.475417</td>\n",
       "    </tr>\n",
       "    <tr>\n",
       "      <th>min</th>\n",
       "      <td>4.000000</td>\n",
       "      <td>0.000000</td>\n",
       "      <td>10.100000</td>\n",
       "      <td>201.050000</td>\n",
       "    </tr>\n",
       "    <tr>\n",
       "      <th>25%</th>\n",
       "      <td>8.000000</td>\n",
       "      <td>256.000000</td>\n",
       "      <td>14.000000</td>\n",
       "      <td>661.082500</td>\n",
       "    </tr>\n",
       "    <tr>\n",
       "      <th>50%</th>\n",
       "      <td>16.000000</td>\n",
       "      <td>512.000000</td>\n",
       "      <td>15.600000</td>\n",
       "      <td>1031.945000</td>\n",
       "    </tr>\n",
       "    <tr>\n",
       "      <th>75%</th>\n",
       "      <td>16.000000</td>\n",
       "      <td>1000.000000</td>\n",
       "      <td>15.600000</td>\n",
       "      <td>1708.970000</td>\n",
       "    </tr>\n",
       "    <tr>\n",
       "      <th>max</th>\n",
       "      <td>128.000000</td>\n",
       "      <td>4000.000000</td>\n",
       "      <td>18.000000</td>\n",
       "      <td>7150.470000</td>\n",
       "    </tr>\n",
       "  </tbody>\n",
       "</table>\n",
       "</div>"
      ],
      "text/plain": [
       "               RAM      Storage       Screen  Final Price\n",
       "count  2160.000000  2160.000000  2156.000000  2160.000000\n",
       "mean     15.413889   596.294444    15.168112  1312.638509\n",
       "std       9.867815   361.220506     1.203329   911.475417\n",
       "min       4.000000     0.000000    10.100000   201.050000\n",
       "25%       8.000000   256.000000    14.000000   661.082500\n",
       "50%      16.000000   512.000000    15.600000  1031.945000\n",
       "75%      16.000000  1000.000000    15.600000  1708.970000\n",
       "max     128.000000  4000.000000    18.000000  7150.470000"
      ]
     },
     "execution_count": 4,
     "metadata": {},
     "output_type": "execute_result"
    }
   ],
   "source": [
    "df.describe()"
   ]
  },
  {
   "cell_type": "code",
   "execution_count": 5,
   "id": "cf676a1f-5f59-492f-a1e8-1d93a55b91fb",
   "metadata": {},
   "outputs": [
    {
     "data": {
      "text/plain": [
       "Laptop           object\n",
       "Status           object\n",
       "Brand            object\n",
       "Model            object\n",
       "CPU              object\n",
       "RAM               int64\n",
       "Storage           int64\n",
       "Storage type     object\n",
       "GPU              object\n",
       "Screen          float64\n",
       "Touch            object\n",
       "Final Price     float64\n",
       "dtype: object"
      ]
     },
     "execution_count": 5,
     "metadata": {},
     "output_type": "execute_result"
    }
   ],
   "source": [
    "df.dtypes"
   ]
  },
  {
   "cell_type": "markdown",
   "id": "848752c8-a56d-4591-84e7-18781f322193",
   "metadata": {},
   "source": [
    "####  Rename the columns to be consitence"
   ]
  },
  {
   "cell_type": "code",
   "execution_count": 6,
   "id": "b84bb9b2-574b-4dfd-8fa9-aea28cae7248",
   "metadata": {},
   "outputs": [],
   "source": [
    "df.columns = df.columns.str.lower().str.replace(' ', '_')"
   ]
  },
  {
   "cell_type": "code",
   "execution_count": 113,
   "id": "dab752f3-f4e2-4515-bf57-ef3a93f05f2f",
   "metadata": {},
   "outputs": [
    {
     "name": "stderr",
     "output_type": "stream",
     "text": [
      "/var/folders/js/95x7pm0d46d9qsgdhmvy56400000gn/T/ipykernel_16161/3671588465.py:4: UserWarning: To output multiple subplots, the figure containing the passed axes is being cleared.\n",
      "  df.hist(bins=5, ax=ax, layout=(3, 3), column=['ram', 'storage','screen','screen','final_price'])\n"
     ]
    },
    {
     "data": {
      "image/png": "[encoded data removed]",
      "text/plain": [
       "<Figure size 2000x1000 with 9 Axes>"
      ]
     },
     "metadata": {},
     "output_type": "display_data"
    }
   ],
   "source": [
    "## Plot all the variables\n",
    "fig = plt.figure(figsize=(20,10))\n",
    "ax = plt.gca()\n",
    "df.hist(bins=5, ax=ax, layout=(3, 3), column=['ram', 'storage','screen','screen','final_price'])\n",
    "plt.tight_layout()\n",
    "plt.show()"
   ]
  },
  {
   "cell_type": "code",
   "execution_count": 69,
   "id": "21a110b5-ac57-4a42-b142-8331cea2909f",
   "metadata": {},
   "outputs": [
    {
     "name": "stderr",
     "output_type": "stream",
     "text": [
      "/var/folders/js/95x7pm0d46d9qsgdhmvy56400000gn/T/ipykernel_16161/553747611.py:1: UserWarning: \n",
      "\n",
      "`distplot` is a deprecated function and will be removed in seaborn v0.14.0.\n",
      "\n",
      "Please adapt your code to use either `displot` (a figure-level function with\n",
      "similar flexibility) or `histplot` (an axes-level function for histograms).\n",
      "\n",
      "For a guide to updating your code to use the new functions, please see\n",
      "https://gist.github.com/mwaskom/de44147ed2974457ad6372750bbe5751\n",
      "\n",
      "  sns.distplot(df.final_price)\n"
     ]
    },
    {
     "data": {
      "text/plain": [
       "<Axes: xlabel='final_price', ylabel='Density'>"
      ]
     },
     "execution_count": 69,
     "metadata": {},
     "output_type": "execute_result"
    },
    {
     "data": {
      "image/png": "[encoded data removed]",
      "text/plain": [
       "<Figure size 640x480 with 1 Axes>"
      ]
     },
     "metadata": {},
     "output_type": "display_data"
    }
   ],
   "source": [
    "sns.distplot(df.final_price)"
   ]
  },
  {
   "cell_type": "markdown",
   "id": "d55ae07d-a467-4d4c-bc6b-a20544d9440a",
   "metadata": {},
   "source": [
    "#### Subset the columns needed to answer the questions"
   ]
  },
  {
   "cell_type": "code",
   "execution_count": 7,
   "id": "4128196c-ba16-4392-8fb5-a1180f708077",
   "metadata": {},
   "outputs": [
    {
     "data": {
      "text/plain": [
       "Index(['ram', 'storage', 'screen', 'final_price'], dtype='object')"
      ]
     },
     "execution_count": 7,
     "metadata": {},
     "output_type": "execute_result"
    }
   ],
   "source": [
    "df_subset = df[['ram', 'storage', 'screen', 'final_price']]\n",
    "df_subset.columns"
   ]
  },
  {
   "cell_type": "code",
   "execution_count": 162,
   "id": "9b45e883-c4ed-4103-86b6-a0e808a6ecc1",
   "metadata": {},
   "outputs": [
    {
     "data": {
      "text/html": [
       "<div>\n",
       "<style scoped>\n",
       "    .dataframe tbody tr th:only-of-type {\n",
       "        vertical-align: middle;\n",
       "    }\n",
       "\n",
       "    .dataframe tbody tr th {\n",
       "        vertical-align: top;\n",
       "    }\n",
       "\n",
       "    .dataframe thead th {\n",
       "        text-align: right;\n",
       "    }\n",
       "</style>\n",
       "<table border=\"1\" class=\"dataframe\">\n",
       "  <thead>\n",
       "    <tr style=\"text-align: right;\">\n",
       "      <th></th>\n",
       "      <th>ram</th>\n",
       "      <th>storage</th>\n",
       "      <th>screen</th>\n",
       "      <th>final_price</th>\n",
       "    </tr>\n",
       "  </thead>\n",
       "  <tbody>\n",
       "    <tr>\n",
       "      <th>0</th>\n",
       "      <td>8</td>\n",
       "      <td>512</td>\n",
       "      <td>15.6</td>\n",
       "      <td>1009.00</td>\n",
       "    </tr>\n",
       "    <tr>\n",
       "      <th>1</th>\n",
       "      <td>8</td>\n",
       "      <td>256</td>\n",
       "      <td>15.6</td>\n",
       "      <td>299.00</td>\n",
       "    </tr>\n",
       "    <tr>\n",
       "      <th>2</th>\n",
       "      <td>8</td>\n",
       "      <td>256</td>\n",
       "      <td>15.6</td>\n",
       "      <td>789.00</td>\n",
       "    </tr>\n",
       "    <tr>\n",
       "      <th>3</th>\n",
       "      <td>16</td>\n",
       "      <td>1000</td>\n",
       "      <td>15.6</td>\n",
       "      <td>1199.00</td>\n",
       "    </tr>\n",
       "    <tr>\n",
       "      <th>4</th>\n",
       "      <td>16</td>\n",
       "      <td>512</td>\n",
       "      <td>15.6</td>\n",
       "      <td>669.01</td>\n",
       "    </tr>\n",
       "    <tr>\n",
       "      <th>...</th>\n",
       "      <td>...</td>\n",
       "      <td>...</td>\n",
       "      <td>...</td>\n",
       "      <td>...</td>\n",
       "    </tr>\n",
       "    <tr>\n",
       "      <th>2155</th>\n",
       "      <td>16</td>\n",
       "      <td>1000</td>\n",
       "      <td>17.3</td>\n",
       "      <td>2699.99</td>\n",
       "    </tr>\n",
       "    <tr>\n",
       "      <th>2156</th>\n",
       "      <td>16</td>\n",
       "      <td>1000</td>\n",
       "      <td>17.3</td>\n",
       "      <td>2899.99</td>\n",
       "    </tr>\n",
       "    <tr>\n",
       "      <th>2157</th>\n",
       "      <td>32</td>\n",
       "      <td>1000</td>\n",
       "      <td>17.3</td>\n",
       "      <td>3399.99</td>\n",
       "    </tr>\n",
       "    <tr>\n",
       "      <th>2158</th>\n",
       "      <td>16</td>\n",
       "      <td>1000</td>\n",
       "      <td>13.4</td>\n",
       "      <td>1899.99</td>\n",
       "    </tr>\n",
       "    <tr>\n",
       "      <th>2159</th>\n",
       "      <td>16</td>\n",
       "      <td>256</td>\n",
       "      <td>13.4</td>\n",
       "      <td>1699.99</td>\n",
       "    </tr>\n",
       "  </tbody>\n",
       "</table>\n",
       "<p>2160 rows × 4 columns</p>\n",
       "</div>"
      ],
      "text/plain": [
       "      ram  storage  screen  final_price\n",
       "0       8      512    15.6      1009.00\n",
       "1       8      256    15.6       299.00\n",
       "2       8      256    15.6       789.00\n",
       "3      16     1000    15.6      1199.00\n",
       "4      16      512    15.6       669.01\n",
       "...   ...      ...     ...          ...\n",
       "2155   16     1000    17.3      2699.99\n",
       "2156   16     1000    17.3      2899.99\n",
       "2157   32     1000    17.3      3399.99\n",
       "2158   16     1000    13.4      1899.99\n",
       "2159   16      256    13.4      1699.99\n",
       "\n",
       "[2160 rows x 4 columns]"
      ]
     },
     "execution_count": 162,
     "metadata": {},
     "output_type": "execute_result"
    }
   ],
   "source": [
    "df_subset"
   ]
  },
  {
   "cell_type": "markdown",
   "id": "350ebb65-341c-472d-b97c-5fce762ce744",
   "metadata": {},
   "source": [
    "### Question 1\n",
    "There's one column with missing values. What is it?"
   ]
  },
  {
   "cell_type": "code",
   "execution_count": 8,
   "id": "25d0cf31-ce84-484a-b75b-a18d29c2c394",
   "metadata": {},
   "outputs": [
    {
     "data": {
      "text/plain": [
       "'screen'"
      ]
     },
     "execution_count": 8,
     "metadata": {},
     "output_type": "execute_result"
    }
   ],
   "source": [
    "df_subset.isna().sum()[df_subset.isna().sum() > 0].index[0]"
   ]
  },
  {
   "cell_type": "markdown",
   "id": "8ca4027d-9cb5-49a6-96d4-d801dd382d01",
   "metadata": {},
   "source": [
    "### Question 2\n",
    "What's the median (50% percentile) for variable 'ram'?"
   ]
  },
  {
   "cell_type": "code",
   "execution_count": 9,
   "id": "0d81b789-d540-4f79-a06b-11fdaa0e3fac",
   "metadata": {},
   "outputs": [
    {
     "data": {
      "text/plain": [
       "16.0"
      ]
     },
     "execution_count": 9,
     "metadata": {},
     "output_type": "execute_result"
    }
   ],
   "source": [
    "df_subset.ram.quantile(0.5)"
   ]
  },
  {
   "cell_type": "code",
   "execution_count": 10,
   "id": "57303d12-217d-46aa-97f6-b7e507215869",
   "metadata": {},
   "outputs": [
    {
     "data": {
      "text/plain": [
       "16.0"
      ]
     },
     "execution_count": 10,
     "metadata": {},
     "output_type": "execute_result"
    }
   ],
   "source": [
    "df_subset.ram.median()"
   ]
  },
  {
   "cell_type": "markdown",
   "id": "c7611f15-a74c-4dd6-8c3f-2d59dda43124",
   "metadata": {},
   "source": [
    "### Prepare and split the dataset"
   ]
  },
  {
   "cell_type": "code",
   "execution_count": 11,
   "id": "0e7d9947-025e-4e55-8856-2e1d102022c8",
   "metadata": {},
   "outputs": [
    {
     "name": "stdout",
     "output_type": "stream",
     "text": [
      "2160 2160 1296 432 432\n"
     ]
    }
   ],
   "source": [
    "## Set random seeds for spliting the data\n",
    "n = len(df_subset)\n",
    "n_test = int(n * 0.2)\n",
    "n_val = int(n * 0.2)\n",
    "n_train = n - n_test - n_val\n",
    "\n",
    "\n",
    "idx = np.arange(n)\n",
    "np.random.seed(42)\n",
    "np.random.shuffle(idx)\n",
    "\n",
    "\n",
    "print(n, n_train + n_test + n_val, n_train, n_test, n_val)"
   ]
  },
  {
   "cell_type": "code",
   "execution_count": 12,
   "id": "981c07f1-0709-4b4a-9631-0187b51c3be3",
   "metadata": {},
   "outputs": [],
   "source": [
    "df_subset = df_subset.iloc[idx]\n",
    "\n",
    "df_train = df_subset.iloc[:n_train].copy()\n",
    "df_val = df_subset.iloc[n_train : n_train + n_val].copy()\n",
    "df_test = df_subset.iloc[n_train + n_val:].copy()\n",
    "\n",
    "df_train = df_train.reset_index(drop=True)\n",
    "df_test = df_test.reset_index(drop=True)\n",
    "df_val = df_val.reset_index(drop=True)"
   ]
  },
  {
   "cell_type": "code",
   "execution_count": 13,
   "id": "47827410-6138-41d5-ae06-f079a60e3adf",
   "metadata": {},
   "outputs": [],
   "source": [
    "y_train = df_train.final_price.values\n",
    "y_test = df_test.final_price.values\n",
    "y_val = df_val.final_price.values\n",
    "\n",
    "\n",
    "del df_train[\"final_price\"]\n",
    "del df_test[\"final_price\"]\n",
    "del df_val[\"final_price\"]"
   ]
  },
  {
   "cell_type": "code",
   "execution_count": 14,
   "id": "47964e79-ca30-4639-a321-897b69ddf9a6",
   "metadata": {},
   "outputs": [
    {
     "data": {
      "text/html": [
       "<div>\n",
       "<style scoped>\n",
       "    .dataframe tbody tr th:only-of-type {\n",
       "        vertical-align: middle;\n",
       "    }\n",
       "\n",
       "    .dataframe tbody tr th {\n",
       "        vertical-align: top;\n",
       "    }\n",
       "\n",
       "    .dataframe thead th {\n",
       "        text-align: right;\n",
       "    }\n",
       "</style>\n",
       "<table border=\"1\" class=\"dataframe\">\n",
       "  <thead>\n",
       "    <tr style=\"text-align: right;\">\n",
       "      <th></th>\n",
       "      <th>ram</th>\n",
       "      <th>storage</th>\n",
       "      <th>screen</th>\n",
       "    </tr>\n",
       "  </thead>\n",
       "  <tbody>\n",
       "    <tr>\n",
       "      <th>0</th>\n",
       "      <td>32</td>\n",
       "      <td>1000</td>\n",
       "      <td>15.6</td>\n",
       "    </tr>\n",
       "    <tr>\n",
       "      <th>1</th>\n",
       "      <td>16</td>\n",
       "      <td>512</td>\n",
       "      <td>13.0</td>\n",
       "    </tr>\n",
       "    <tr>\n",
       "      <th>2</th>\n",
       "      <td>16</td>\n",
       "      <td>512</td>\n",
       "      <td>15.6</td>\n",
       "    </tr>\n",
       "    <tr>\n",
       "      <th>3</th>\n",
       "      <td>16</td>\n",
       "      <td>512</td>\n",
       "      <td>15.0</td>\n",
       "    </tr>\n",
       "    <tr>\n",
       "      <th>4</th>\n",
       "      <td>16</td>\n",
       "      <td>1000</td>\n",
       "      <td>15.6</td>\n",
       "    </tr>\n",
       "    <tr>\n",
       "      <th>...</th>\n",
       "      <td>...</td>\n",
       "      <td>...</td>\n",
       "      <td>...</td>\n",
       "    </tr>\n",
       "    <tr>\n",
       "      <th>427</th>\n",
       "      <td>8</td>\n",
       "      <td>512</td>\n",
       "      <td>15.0</td>\n",
       "    </tr>\n",
       "    <tr>\n",
       "      <th>428</th>\n",
       "      <td>8</td>\n",
       "      <td>256</td>\n",
       "      <td>15.6</td>\n",
       "    </tr>\n",
       "    <tr>\n",
       "      <th>429</th>\n",
       "      <td>8</td>\n",
       "      <td>256</td>\n",
       "      <td>13.3</td>\n",
       "    </tr>\n",
       "    <tr>\n",
       "      <th>430</th>\n",
       "      <td>8</td>\n",
       "      <td>512</td>\n",
       "      <td>14.0</td>\n",
       "    </tr>\n",
       "    <tr>\n",
       "      <th>431</th>\n",
       "      <td>32</td>\n",
       "      <td>1000</td>\n",
       "      <td>16.0</td>\n",
       "    </tr>\n",
       "  </tbody>\n",
       "</table>\n",
       "<p>432 rows × 3 columns</p>\n",
       "</div>"
      ],
      "text/plain": [
       "     ram  storage  screen\n",
       "0     32     1000    15.6\n",
       "1     16      512    13.0\n",
       "2     16      512    15.6\n",
       "3     16      512    15.0\n",
       "4     16     1000    15.6\n",
       "..   ...      ...     ...\n",
       "427    8      512    15.0\n",
       "428    8      256    15.6\n",
       "429    8      256    13.3\n",
       "430    8      512    14.0\n",
       "431   32     1000    16.0\n",
       "\n",
       "[432 rows x 3 columns]"
      ]
     },
     "execution_count": 14,
     "metadata": {},
     "output_type": "execute_result"
    }
   ],
   "source": [
    "df_test"
   ]
  },
  {
   "cell_type": "markdown",
   "id": "01650f16-53a3-4a87-98fb-3365a7f414fb",
   "metadata": {},
   "source": [
    "### Question 3\n",
    "- We need to deal with missing values for the column from Q1.\n",
    "- We have two options: fill it with 0 or with the mean of this variable.\n",
    "- Try both options. For each, train a linear regression model without regularization using the code from the lessons.\n",
    "- For computing the mean, use the training only!\n",
    "- Use the validation dataset to evaluate the models and compare the RMSE of each option.\n",
    "- Round the RMSE scores to 2 decimal digits using round(score, 2)\n",
    "- Which option gives better RMSE?"
   ]
  },
  {
   "cell_type": "markdown",
   "id": "277b2926-64ec-49a8-8a3b-5479debafe16",
   "metadata": {},
   "source": [
    "#### 3.1 Filling the missing value\n",
    "\n",
    "- Write the functions to fill in the missing values, prepare the data\n",
    "- Write the funcutions needed for the regression and RMSE"
   ]
  },
  {
   "cell_type": "code",
   "execution_count": 15,
   "id": "aef640cc-953a-4347-a995-bb0c81c0e11e",
   "metadata": {},
   "outputs": [],
   "source": [
    "def prepare_X(df, fillna_value):\n",
    "    df = df.copy()\n",
    "    df = df.fillna(fillna_value)\n",
    "    X = df.values\n",
    "    return X\n",
    "\n",
    "\n",
    "def rmse(y, y_pred):\n",
    "    se = (( y - y_pred) ** 2).mean()\n",
    "    return np.sqrt(se)\n",
    "    \n",
    "    \n",
    "def train_linear_regression(X, y):\n",
    "    ones = np.ones(X.shape[0])\n",
    "    X = np.column_stack([ones, X])\n",
    "\n",
    "    XTX = X.T.dot(X)\n",
    "    XTX_inv = np.linalg.inv(XTX)\n",
    "    w = XTX_inv.dot(X.T).dot(y)\n",
    "    \n",
    "    return w[0], w[1:]\n"
   ]
  },
  {
   "cell_type": "markdown",
   "id": "627deeb9-b462-431c-ade5-4af6bb7e0e05",
   "metadata": {},
   "source": [
    "#### 3.2 Test mean first\n",
    "\n",
    "Fill the NAs with the mean and calculate the RMSE"
   ]
  },
  {
   "cell_type": "code",
   "execution_count": 16,
   "id": "86f9d40d-fcec-4479-9ec3-9b95366b0fc9",
   "metadata": {},
   "outputs": [
    {
     "data": {
      "text/plain": [
       "600.27"
      ]
     },
     "execution_count": 16,
     "metadata": {},
     "output_type": "execute_result"
    }
   ],
   "source": [
    "mean_price = df_train.screen.mean()\n",
    "\n",
    "X_train_zero = prepare_X(df_train, mean_price)\n",
    "w_0, w = train_linear_regression(X_train_zero, y_train)\n",
    "\n",
    "\n",
    "X_val_zero = prepare_X(df_val, fillna_value=mean_price)\n",
    "y_pred_zero = w_0 + X_val_zero.dot(w)\n",
    "\n",
    "round(rmse(y_val, y_pred_zero),2)"
   ]
  },
  {
   "cell_type": "markdown",
   "id": "63addab3-af6e-4db8-b986-4439222ff2e4",
   "metadata": {},
   "source": [
    "#### 3.3 Test with zero"
   ]
  },
  {
   "cell_type": "code",
   "execution_count": 17,
   "id": "54a20276-b3a6-468d-b39c-366b40b71895",
   "metadata": {},
   "outputs": [
    {
     "data": {
      "text/plain": [
       "597.36"
      ]
     },
     "execution_count": 17,
     "metadata": {},
     "output_type": "execute_result"
    }
   ],
   "source": [
    "X_train = prepare_X(df_train, 0)\n",
    "\n",
    "\n",
    "w_0, w = train_linear_regression(X_train, y_train)\n",
    "\n",
    "X_val = prepare_X(df_val, fillna_value=0)\n",
    "y_pred = w_0 + X_val.dot(w)\n",
    "\n",
    "round(rmse(y_val, y_pred),2)"
   ]
  },
  {
   "cell_type": "markdown",
   "id": "e1b785de-5348-4405-a3f8-b421ea422e0a",
   "metadata": {},
   "source": [
    "### Question 4 Regularisation\n",
    "\n",
    "- Regularisation of the model with different r values\n",
    "    - Update the regression function to add in r (regularisation value)"
   ]
  },
  {
   "cell_type": "code",
   "execution_count": 18,
   "id": "b678a599-c496-4bbd-a4c7-b9c3ca56bf5a",
   "metadata": {},
   "outputs": [],
   "source": [
    "def train_linear_regression(X, y, r=0.0):\n",
    "    ones = np.ones(X.shape[0])\n",
    "    X = np.column_stack([ones, X])\n",
    "\n",
    "    XTX = X.T.dot(X)\n",
    "    reg = r * np.eye(XTX.shape[0])\n",
    "    XTX= XTX + reg\n",
    "    \n",
    "    XTX_inv = np.linalg.inv(XTX)\n",
    "    w = XTX_inv.dot(X.T).dot(y)\n",
    "    \n",
    "    return w[0], w[1:]"
   ]
  },
  {
   "cell_type": "code",
   "execution_count": 19,
   "id": "020cef33-bf46-4c00-aec5-0f1b2d55e42a",
   "metadata": {},
   "outputs": [
    {
     "name": "stdout",
     "output_type": "stream",
     "text": [
      "RSME value:          0 is 597.36\n",
      "RSME value:      1e-06 is 597.36\n",
      "RSME value:     0.0001 is 597.36\n",
      "RSME value:      0.001 is 597.36\n",
      "RSME value:       0.01 is 597.36\n",
      "RSME value:        0.1 is 597.35\n",
      "RSME value:          1 is 597.21\n",
      "RSME value:          5 is 597.01\n",
      "RSME value:         10 is 597.06\n",
      "The best r value is: 5     with rsme of 597.01\n"
     ]
    }
   ],
   "source": [
    "r_values = [0, 0.000001, 0.0001, 0.001, 0.01, 0.1, 1, 5, 10]\n",
    "min_value = 100000\n",
    "min_r = ''\n",
    "rsme_val_list = []\n",
    "for r in r_values:\n",
    "    w_0, w = train_linear_regression(X_train, y_train, r=r)\n",
    "    X_val = prepare_X(df_val, fillna_value=0)\n",
    "    y_pred = w_0 + X_val.dot(w)\n",
    "\n",
    "    rsme_value = round(rmse(y_val, y_pred),2)\n",
    "    rsme_val_list.append(rsme_value)\n",
    "    \n",
    "    if rsme_value < min_value:\n",
    "        min_value = rsme_value\n",
    "        min_r = str(r)\n",
    "\n",
    "    print(\"RSME value: {0:10} is {1}\".format(r, rsme_value))\n",
    "\n",
    "\n",
    "print(\"The best r value is: {0:5} with rsme of {1}\".format(min_r, min_value))"
   ]
  },
  {
   "cell_type": "markdown",
   "id": "2ff926a7-b221-4769-b652-642f204ffd1a",
   "metadata": {},
   "source": [
    "### Question 5\n",
    "- We used seed 42 for splitting the data. Let's find out how selecting the seed influences our score.\n",
    "- Try different seed values: [0, 1, 2, 3, 4, 5, 6, 7, 8, 9].\n",
    "- For each seed, do the train/validation/test split with 60%/20%/20% distribution.\n",
    "- Fill the missing values with 0 and train a model without regularization.\n",
    "- For each seed, evaluate the model on the validation dataset and collect the RMSE scores.\n",
    "- What's the standard deviation of all the scores? To compute the standard deviation, use np.std.\n",
    "- Round the result to 3 decimal digits (round(std, 3))"
   ]
  },
  {
   "cell_type": "markdown",
   "id": "42336d63-74fe-4114-97c2-789c20159453",
   "metadata": {},
   "source": [
    "#### Compile all the code above and write a loop to perform the analsyis"
   ]
  },
  {
   "cell_type": "code",
   "execution_count": 34,
   "id": "11d85d3a-1ee2-49fd-a183-e7acf55e6fee",
   "metadata": {},
   "outputs": [
    {
     "name": "stdout",
     "output_type": "stream",
     "text": [
      "RSME value for seed of 0 is 650.09\n",
      "RSME value for seed of 1 is 593.15\n",
      "RSME value for seed of 2 is 573.0\n",
      "RSME value for seed of 3 is 535.81\n",
      "RSME value for seed of 4 is 619.89\n",
      "RSME value for seed of 5 is 548.8\n",
      "RSME value for seed of 6 is 635.02\n",
      "RSME value for seed of 7 is 578.32\n",
      "RSME value for seed of 8 is 583.1\n",
      "RSME value for seed of 9 is 549.81\n",
      "36.269\n"
     ]
    }
   ],
   "source": [
    "seed_values = [0, 1, 2, 3, 4, 5, 6, 7, 8, 9]\n",
    "\n",
    "rsme_values = []\n",
    "for seed in seed_values:\n",
    "    n = len(df_subset)\n",
    "    \n",
    "    n_test = int(n * 0.2)\n",
    "    n_val = int(n * 0.2)\n",
    "    n_train = n - (n_test + n_val)\n",
    "\n",
    "    np.random.seed(seed)\n",
    "    idx = np.arange(n)\n",
    "    np.random.shuffle(idx)\n",
    "    \n",
    "    df_train = df_subset.iloc[idx[:n_train]]\n",
    "    df_val = df_subset.iloc[idx[n_train:n_train + n_val]]\n",
    "    df_test = df_subset.iloc[idx[n_train + n_val:]]\n",
    "    \n",
    "    df_train = df_train.reset_index(drop=True)\n",
    "    df_test = df_test.reset_index(drop=True)\n",
    "    df_val = df_val.reset_index(drop=True)\n",
    "    \n",
    "    y_train = df_train.final_price.values\n",
    "    y_test = df_test.final_price.values\n",
    "    y_val = df_val.final_price.values\n",
    "    \n",
    "    \n",
    "    del df_train[\"final_price\"]\n",
    "    del df_test[\"final_price\"]\n",
    "    del df_val[\"final_price\"]\n",
    "    \n",
    "    X_train = prepare_X(df_train, fillna_value=0)\n",
    "    w_0, w = train_linear_regression(X_train, y_train)\n",
    "    \n",
    "    X_val = prepare_X(df_val, fillna_value=0)\n",
    "    y_pred = w_0 + X_val.dot(w)\n",
    "\n",
    "    \n",
    "    rsme_value = rmse(y_val, y_pred)\n",
    "    rsme_values.append(round(rsme_value, 2))\n",
    "    print(\"RSME value for seed of {0} is {1}\".format(seed, round(rsme_value, 2)))\n",
    "\n",
    "\n",
    "print(round(np.std(rsme_values), 3))\n"
   ]
  },
  {
   "cell_type": "markdown",
   "id": "ba8dacd3-5687-4a1b-8723-3cf8c87d9083",
   "metadata": {},
   "source": [
    "### Question 6\n",
    "- Split the dataset like previously, use seed 9.\n",
    "- Combine train and validation datasets.\n",
    "- Fill the missing values with 0 and train a model with r=0.001.\n",
    "- What's the RMSE on the test dataset?"
   ]
  },
  {
   "cell_type": "markdown",
   "id": "9d37f7e0-7dcd-4a3a-9d16-72282a219093",
   "metadata": {},
   "source": [
    "#### split the dataset into  train, test and validations and then combine the train and validate"
   ]
  },
  {
   "cell_type": "code",
   "execution_count": 27,
   "id": "4dc8a923-67ba-4798-992b-f52f156a82d8",
   "metadata": {},
   "outputs": [],
   "source": [
    "np.random.seed(9)\n",
    "n = len(df_subset)\n",
    "idx = np.arange(n)\n",
    "np.random.shuffle(idx)\n",
    "\n",
    "n_test = int(n * 0.2)\n",
    "n_val = int(n * 0.2)\n",
    "n_train = n - n_test - n_val\n",
    "\n",
    "df_train = df_subset.iloc[idx[:n_train]]\n",
    "df_val = df_subset.iloc[idx[n_train:n_train + n_val]]\n",
    "df_test = df_subset.iloc[idx[n_train + n_val:]]\n",
    "\n",
    "df_train = df_train.reset_index(drop=True)\n",
    "df_test = df_test.reset_index(drop=True)\n",
    "df_val = df_val.reset_index(drop=True)\n",
    "\n",
    "y_train = df_train.final_price.values\n",
    "y_test = df_test.final_price.values\n",
    "y_val = df_val.final_price.values\n",
    "\n",
    "\n",
    "del df_train[\"final_price\"]\n",
    "del df_test[\"final_price\"]\n",
    "del df_val[\"final_price\"]\n",
    "\n",
    "\n",
    "f = [df_train, df_val]\n",
    "combine_train_val = pd.concat(f)\n",
    "\n",
    "y_train_val = np.concatenate((y_train, y_val))"
   ]
  },
  {
   "cell_type": "markdown",
   "id": "adfbed4e-948a-4c4d-8efe-7319d7544800",
   "metadata": {},
   "source": [
    "#### used the split data for training and validation"
   ]
  },
  {
   "cell_type": "code",
   "execution_count": 28,
   "id": "fb618f0c-a715-48a6-9328-8cf35ee40f45",
   "metadata": {},
   "outputs": [],
   "source": [
    "def train_linear_regression(X, y, r=0.0):\n",
    "    ones = np.ones(X.shape[0])\n",
    "    X = np.column_stack([ones, X])\n",
    "\n",
    "    XTX = X.T.dot(X)\n",
    "    reg = r * np.eye(XTX.shape[0])\n",
    "    XTX= XTX + reg\n",
    "    \n",
    "    XTX_inv = np.linalg.inv(XTX)\n",
    "    w = XTX_inv.dot(X.T).dot(y)\n",
    "    \n",
    "    return w[0], w[1:]"
   ]
  },
  {
   "cell_type": "code",
   "execution_count": 29,
   "id": "98716992-197b-4132-b67e-28614f0c3cbd",
   "metadata": {},
   "outputs": [
    {
     "data": {
      "text/plain": [
       "586.53"
      ]
     },
     "execution_count": 29,
     "metadata": {},
     "output_type": "execute_result"
    }
   ],
   "source": [
    "X_train = prepare_X(df_train, 0)\n",
    "    \n",
    "    \n",
    "w_0, w = train_linear_regression(X_train, y_train, r=0.001)\n",
    "\n",
    "X_val = prepare_X(combine_train_val, fillna_value=0)\n",
    "y_pred = w_0 + X_val.dot(w)\n",
    "\n",
    "\n",
    "round(rmse(y_train_val, y_pred),2)\n",
    "\n"
   ]
  },
  {
   "cell_type": "code",
   "execution_count": null,
   "id": "769e3937-ae29-43d3-9541-a3badf98572f",
   "metadata": {},
   "outputs": [],
   "source": []
  }
 ],
 "metadata": {
  "kernelspec": {
   "display_name": "Python 3 (ipykernel)",
   "language": "python",
   "name": "python3"
  },
  "language_info": {
   "codemirror_mode": {
    "name": "ipython",
    "version": 3
   },
   "file_extension": ".py",
   "mimetype": "text/x-python",
   "name": "python",
   "nbconvert_exporter": "python",
   "pygments_lexer": "ipython3",
   "version": "3.7.4"
  }
 },
 "nbformat": 4,
 "nbformat_minor": 5
}
