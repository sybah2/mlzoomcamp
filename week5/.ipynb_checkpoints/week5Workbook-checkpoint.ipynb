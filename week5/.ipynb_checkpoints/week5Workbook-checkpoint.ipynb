{
 "cells": [
  {
   "cell_type": "code",
   "execution_count": 4,
   "id": "add81d3e-7214-4175-baf2-3ce2e010f8a0",
   "metadata": {},
   "outputs": [],
   "source": [
    "## Import the modules needed for the analys\n",
    "import numpy as np\n",
    "import pandas as pd\n",
    "\n",
    "\n",
    "from sklearn.model_selection import train_test_split\n",
    "from sklearn.model_selection import KFold\n",
    "\n",
    "\n",
    "from sklearn.feature_extraction import DictVectorizer\n",
    "from sklearn.linear_model import LogisticRegression\n",
    "from sklearn.metrics import accuracy_score, roc_auc_score\n"
   ]
  },
  {
   "cell_type": "code",
   "execution_count": 5,
   "id": "0be36691-7ec6-411f-92e8-a192341ae823",
   "metadata": {},
   "outputs": [],
   "source": [
    "df = pd.read_csv('customer_churn.csv')\n",
    "\n",
    "## make all column names the same format\n",
    "df.columns = df.columns.str.lower().str.replace(' ', '_')\n",
    "## Make all values the same format (only strings values)\n",
    "string_var = list(df.dtypes[df.dtypes == 'object'].index)\n",
    "for var in string_var:\n",
    "    df[var] = df[var].str.lower().str.replace(' ', '_')\n",
    "df.totalcharges = pd.to_numeric(df.totalcharges, errors='coerce')\n",
    "df.totalcharges = df.totalcharges.fillna(0)\n",
    "\n",
    "df.churn = (df.churn == 'yes').astype(int)\n"
   ]
  },
  {
   "cell_type": "code",
   "execution_count": 6,
   "id": "423188c9-1265-4196-8806-b1d0ffab760e",
   "metadata": {},
   "outputs": [],
   "source": [
    "df_full_train, df_test = train_test_split(df, test_size=0.2, random_state=1)"
   ]
  },
  {
   "cell_type": "code",
   "execution_count": 7,
   "id": "0dd1a0b1-c14c-44a7-8554-bbaf9b9bcae5",
   "metadata": {},
   "outputs": [],
   "source": [
    "numeric = ['tenure', 'monthlycharges','totalcharges' ]\n",
    "\n",
    "categorical = ['gender', 'seniorcitizen', 'partner', 'dependents',\n",
    "        'phoneservice', 'multiplelines', 'internetservice',\n",
    "       'onlinesecurity', 'onlinebackup', 'deviceprotection', 'techsupport',\n",
    "       'streamingtv', 'streamingmovies', 'contract', 'paperlessbilling',\n",
    "       'paymentmethod']"
   ]
  },
  {
   "cell_type": "code",
   "execution_count": 8,
   "id": "e39f3e0b-9ff0-4022-a6f2-0253ac468dba",
   "metadata": {},
   "outputs": [],
   "source": [
    "def train(df, y, C=10):\n",
    "    dicts = df[categorical + numeric].to_dict(orient='records')\n",
    "    \n",
    "    dv = DictVectorizer(sparse=False)\n",
    "    X_train = dv.fit_transform(dicts)\n",
    "    \n",
    "    model = LogisticRegression(C=C, max_iter=1000)\n",
    "    model.fit(X_train, y)\n",
    "\n",
    "    return dv, model"
   ]
  },
  {
   "cell_type": "code",
   "execution_count": 9,
   "id": "35e97879-cdb7-4dd4-83d6-525558778888",
   "metadata": {},
   "outputs": [],
   "source": [
    "def predict(df, dv, model):\n",
    "    dicts = df[categorical + numeric].to_dict(orient='records')\n",
    "    X = dv.transform(dicts)\n",
    "    y_pred = model.predict_proba(X)[:, 1]\n",
    "\n",
    "    return y_pred\n",
    "    "
   ]
  },
  {
   "cell_type": "code",
   "execution_count": 10,
   "id": "91d87b71-d597-47f9-b08d-d8de54087dd2",
   "metadata": {},
   "outputs": [],
   "source": [
    "C=1.0\n",
    "n_splits = 5"
   ]
  },
  {
   "cell_type": "code",
   "execution_count": 11,
   "id": "2990f5db-d7ae-46ee-a8be-c5ce78f822a8",
   "metadata": {},
   "outputs": [
    {
     "name": "stdout",
     "output_type": "stream",
     "text": [
      "C=1.0 0.840 +- 0.008\n"
     ]
    }
   ],
   "source": [
    "kfold = KFold(n_splits=n_splits, shuffle=True, random_state=1)\n",
    "\n",
    "scores = []\n",
    "\n",
    "for train_idx, val_idx in kfold.split(df_full_train):     \n",
    "    df_train = df_full_train.iloc[train_idx]\n",
    "    df_val = df_full_train.iloc[val_idx]\n",
    "\n",
    "    y_train = df_train.churn.values\n",
    "    y_val = df_val.churn.values\n",
    "\n",
    "    dv, model = train(df_train, y_train, C=C)\n",
    "    y_pred = predict(df_val, dv, model)\n",
    "\n",
    "\n",
    "    roc = roc_auc_score(y_val, y_pred)\n",
    "    scores.append(roc)\n",
    "\n",
    "print('C=%s %.3f +- %.3f' % (C, np.mean(scores),np.std(scores)))"
   ]
  },
  {
   "cell_type": "code",
   "execution_count": 12,
   "id": "3fafb3ca-a5f2-4290-b5d8-438f7abc5810",
   "metadata": {},
   "outputs": [
    {
     "data": {
      "text/plain": [
       "0.8572386167896259"
      ]
     },
     "execution_count": 12,
     "metadata": {},
     "output_type": "execute_result"
    }
   ],
   "source": [
    "dv, model = train(df_full_train, df_full_train.churn.values, C=1.0)\n",
    "y_pred = predict(df_test, dv, model)\n",
    "\n",
    "y_test = df_test.churn.values\n",
    "roc = roc_auc_score(y_test, y_pred)\n",
    "roc"
   ]
  },
  {
   "cell_type": "code",
   "execution_count": 13,
   "id": "e154c9c1-f6c3-406b-8f8d-4ac07d98ff3d",
   "metadata": {},
   "outputs": [],
   "source": [
    "import pickle"
   ]
  },
  {
   "cell_type": "code",
   "execution_count": 14,
   "id": "888fc175-bce9-420b-8dfd-3bf9d3a833b5",
   "metadata": {},
   "outputs": [],
   "source": [
    "output_file = f'model_C={C}.bin'"
   ]
  },
  {
   "cell_type": "code",
   "execution_count": 15,
   "id": "794d8e79-608a-4b0e-8753-8e3f6cc693a1",
   "metadata": {},
   "outputs": [],
   "source": [
    "with open(output_file, 'wb') as f_out:\n",
    "    pickle.dump((dv, model), f_out)\n"
   ]
  },
  {
   "cell_type": "code",
   "execution_count": 1,
   "id": "8c274a72-a994-4c49-8f78-f14509c219b6",
   "metadata": {},
   "outputs": [],
   "source": [
    "import pickle"
   ]
  },
  {
   "cell_type": "code",
   "execution_count": 2,
   "id": "c1dcb7f9-4f33-48d4-ba25-024bf4f53db2",
   "metadata": {},
   "outputs": [],
   "source": [
    "model_file = 'model_C=1.0.bin'"
   ]
  },
  {
   "cell_type": "code",
   "execution_count": 3,
   "id": "1ed2d91c-78af-41ea-af42-242eb12c1685",
   "metadata": {},
   "outputs": [],
   "source": [
    "with open(model_file, 'rb') as f_in:\n",
    "    dv, model = pickle.load(f_in)"
   ]
  },
  {
   "cell_type": "code",
   "execution_count": 5,
   "id": "08af11bd-ce24-449b-ab8c-8cf6c025f79b",
   "metadata": {},
   "outputs": [
    {
     "data": {
      "text/plain": [
       "(DictVectorizer(sparse=False), LogisticRegression(max_iter=1000))"
      ]
     },
     "execution_count": 5,
     "metadata": {},
     "output_type": "execute_result"
    }
   ],
   "source": [
    "dv, model"
   ]
  },
  {
   "cell_type": "code",
   "execution_count": 6,
   "id": "bb03d187-f378-41f7-bf33-441eeba1791f",
   "metadata": {},
   "outputs": [],
   "source": [
    "customer = {'gender': 'female',\n",
    "  'seniorcitizen': 0,\n",
    "  'partner': 'yes',\n",
    "  'dependents': 'no',\n",
    "  'phoneservice': 'no',\n",
    "  'multiplelines': 'no_phone_service',\n",
    "  'internetservice': 'dsl',\n",
    "  'onlinesecurity': 'no',\n",
    "  'onlinebackup': 'yes',\n",
    "  'deviceprotection': 'no',\n",
    "  'techsupport': 'no',\n",
    "  'streamingtv': 'no',\n",
    "  'streamingmovies': 'no',\n",
    "  'contract': 'month-to-month',\n",
    "  'paperlessbilling': 'yes',\n",
    "  'paymentmethod': 'electronic_check',\n",
    "  'tenure': 1,\n",
    "  'monthlycharges': 29.85,\n",
    "  'totalcharges': 29.85}"
   ]
  },
  {
   "cell_type": "code",
   "execution_count": 8,
   "id": "42c9acde-f4fb-41a1-9feb-cd39149d22d9",
   "metadata": {},
   "outputs": [],
   "source": [
    "X  = dv.transform([customer])"
   ]
  },
  {
   "cell_type": "code",
   "execution_count": 9,
   "id": "493b5bc3-650b-4d03-9d5c-b29c9c5c0b9a",
   "metadata": {},
   "outputs": [
    {
     "data": {
      "text/plain": [
       "0.6363584152717997"
      ]
     },
     "execution_count": 9,
     "metadata": {},
     "output_type": "execute_result"
    }
   ],
   "source": [
    "model.predict_proba(X)[0,1]"
   ]
  },
  {
   "cell_type": "code",
   "execution_count": null,
   "id": "ea4580af-5856-4158-a817-96f416cceb99",
   "metadata": {},
   "outputs": [],
   "source": []
  }
 ],
 "metadata": {
  "kernelspec": {
   "display_name": "Python 3 (ipykernel)",
   "language": "python",
   "name": "python3"
  },
  "language_info": {
   "codemirror_mode": {
    "name": "ipython",
    "version": 3
   },
   "file_extension": ".py",
   "mimetype": "text/x-python",
   "name": "python",
   "nbconvert_exporter": "python",
   "pygments_lexer": "ipython3",
   "version": "3.7.4"
  }
 },
 "nbformat": 4,
 "nbformat_minor": 5
}
